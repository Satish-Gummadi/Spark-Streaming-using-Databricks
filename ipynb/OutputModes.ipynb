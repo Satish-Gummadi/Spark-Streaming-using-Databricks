{
 "cells": [
  {
   "cell_type": "code",
   "execution_count": 0,
   "metadata": {
    "application/vnd.databricks.v1+cell": {
     "cellMetadata": {
      "byteLimit": 2048000,
      "rowLimit": 10000
     },
     "inputWidgets": {},
     "nuid": "e6cd70a4-5b1c-468f-84d7-875362619b2d",
     "showTitle": false,
     "title": ""
    }
   },
   "outputs": [
    {
     "output_type": "display_data",
     "data": {
      "text/html": [
       "<style scoped>\n",
       "  .ansiout {\n",
       "    display: block;\n",
       "    unicode-bidi: embed;\n",
       "    white-space: pre-wrap;\n",
       "    word-wrap: break-word;\n",
       "    word-break: break-all;\n",
       "    font-family: \"Source Code Pro\", \"Menlo\", monospace;;\n",
       "    font-size: 13px;\n",
       "    color: #555;\n",
       "    margin-left: 4px;\n",
       "    line-height: 19px;\n",
       "  }\n",
       "</style>\n",
       "<div class=\"ansiout\">Out[1]: True</div>"
      ]
     },
     "metadata": {
      "application/vnd.databricks.v1+output": {
       "addedWidgets": {},
       "arguments": {},
       "data": "<div class=\"ansiout\">Out[1]: True</div>",
       "datasetInfos": [],
       "metadata": {},
       "removedWidgets": [],
       "type": "html"
      }
     },
     "output_type": "display_data"
    }
   ],
   "source": [
    "dbutils.fs.mkdirs(\"FileStore/datasets/car_source_stream\")"
   ]
  },
  {
   "cell_type": "code",
   "execution_count": 0,
   "metadata": {
    "application/vnd.databricks.v1+cell": {
     "cellMetadata": {
      "byteLimit": 2048000,
      "rowLimit": 10000
     },
     "inputWidgets": {},
     "nuid": "b433e0e4-d627-47de-8253-62daa373df25",
     "showTitle": false,
     "title": ""
    }
   },
   "outputs": [
    {
     "output_type": "display_data",
     "data": {
      "text/html": [
       "<style scoped>\n",
       "  .ansiout {\n",
       "    display: block;\n",
       "    unicode-bidi: embed;\n",
       "    white-space: pre-wrap;\n",
       "    word-wrap: break-word;\n",
       "    word-break: break-all;\n",
       "    font-family: \"Source Code Pro\", \"Menlo\", monospace;;\n",
       "    font-size: 13px;\n",
       "    color: #555;\n",
       "    margin-left: 4px;\n",
       "    line-height: 19px;\n",
       "  }\n",
       "</style>\n",
       "<div class=\"ansiout\"></div>"
      ]
     },
     "metadata": {
      "application/vnd.databricks.v1+output": {
       "addedWidgets": {},
       "arguments": {},
       "data": "<div class=\"ansiout\"></div>",
       "datasetInfos": [],
       "metadata": {},
       "removedWidgets": [],
       "type": "html"
      }
     },
     "output_type": "display_data"
    }
   ],
   "source": [
    "car_stream_data = spark.readStream.format(\"cloudFiles\") \\\n",
    "                            .option(\"cloudFiles.format\",\"csv\") \\\n",
    "                                .option(\"cloudFiles.schemaLocation\",\"dbfs:/FileStore/datasets/car_source_stream\") \\\n",
    "                                    .option(\"cloudFiles.schemaHints\",\"price int,mileage int,engV float,year int\") \\\n",
    "                                        .load(\"dbfs:/FileStore/datasets/car_source_stream\")"
   ]
  },
  {
   "cell_type": "code",
   "execution_count": 0,
   "metadata": {
    "application/vnd.databricks.v1+cell": {
     "cellMetadata": {
      "byteLimit": 2048000,
      "rowLimit": 10000
     },
     "inputWidgets": {},
     "nuid": "8ea90818-ed9b-4f67-9553-d5976c3384c1",
     "showTitle": false,
     "title": ""
    }
   },
   "outputs": [
    {
     "output_type": "display_data",
     "data": {
      "text/html": [
       "<style scoped>\n",
       "  .table-result-container {\n",
       "    max-height: 300px;\n",
       "    overflow: auto;\n",
       "  }\n",
       "  table, th, td {\n",
       "    border: 1px solid black;\n",
       "    border-collapse: collapse;\n",
       "  }\n",
       "  th, td {\n",
       "    padding: 5px;\n",
       "  }\n",
       "  th {\n",
       "    text-align: left;\n",
       "  }\n",
       "</style><div class='table-result-container'><table class='table-result'><thead style='background-color: white'><tr><th>car</th><th>price</th><th>body</th><th>mileage</th><th>engV</th><th>engType</th><th>registration</th><th>year</th><th>model</th><th>drive</th><th>_rescued_data</th></tr></thead><tbody><tr><td>Ford</td><td>15500</td><td>crossover</td><td>68</td><td>2.5</td><td>Gas</td><td>yes</td><td>2010</td><td>Kuga</td><td>full</td><td>null</td></tr><tr><td>Mercedes-Benz</td><td>20500</td><td>sedan</td><td>173</td><td>1.8</td><td>Gas</td><td>yes</td><td>2011</td><td>E-Class</td><td>rear</td><td>null</td></tr><tr><td>Mercedes-Benz</td><td>35000</td><td>other</td><td>135</td><td>5.5</td><td>Petrol</td><td>yes</td><td>2008</td><td>CL 550</td><td>rear</td><td>null</td></tr><tr><td>Mercedes-Benz</td><td>17800</td><td>van</td><td>162</td><td>1.8</td><td>Diesel</td><td>yes</td><td>2012</td><td>B 180</td><td>front</td><td>null</td></tr><tr><td>Nissan</td><td>16600</td><td>crossover</td><td>83</td><td>2.0</td><td>Petrol</td><td>yes</td><td>2013</td><td>X-Trail</td><td>full</td><td>null</td></tr><tr><td>Honda</td><td>6500</td><td>sedan</td><td>199</td><td>2.0</td><td>Petrol</td><td>yes</td><td>2003</td><td>Accord</td><td>front</td><td>null</td></tr><tr><td>Renault</td><td>10500</td><td>vagon</td><td>185</td><td>1.5</td><td>Diesel</td><td>yes</td><td>2011</td><td>Megane</td><td>front</td><td>null</td></tr><tr><td>Mercedes-Benz</td><td>21500</td><td>sedan</td><td>146</td><td>1.8</td><td>Gas</td><td>yes</td><td>2012</td><td>E-Class</td><td>rear</td><td>null</td></tr><tr><td>Mercedes-Benz</td><td>22700</td><td>sedan</td><td>125</td><td>2.2</td><td>Diesel</td><td>yes</td><td>2010</td><td>E-Class</td><td>rear</td><td>null</td></tr><tr><td>Nissan</td><td>null</td><td>crossover</td><td>0</td><td>1.2</td><td>Petrol</td><td>yes</td><td>2016</td><td>Qashqai</td><td>front</td><td>{\"price\":\"20447.154\",\"_file_path\":\"dbfs:/FileStore/datasets/car_source_stream/car_ad_01.csv\"}</td></tr><tr><td>Mercedes-Benz</td><td>20400</td><td>sedan</td><td>190</td><td>1.8</td><td>Gas</td><td>yes</td><td>2011</td><td>E-Class</td><td>rear</td><td>null</td></tr><tr><td>Mercedes-Benz</td><td>22500</td><td>sedan</td><td>164</td><td>1.8</td><td>Gas</td><td>yes</td><td>2012</td><td>E-Class</td><td>rear</td><td>null</td></tr><tr><td>BMW</td><td>4700</td><td>sedan</td><td>200</td><td>null</td><td>Petrol</td><td>yes</td><td>1996</td><td>316</td><td>rear</td><td>{\"engV\":\"NA\",\"_file_path\":\"dbfs:/FileStore/datasets/car_source_stream/car_ad_01.csv\"}</td></tr><tr><td>Mercedes-Benz</td><td>21500</td><td>sedan</td><td>159</td><td>1.8</td><td>Gas</td><td>yes</td><td>2012</td><td>E-Class</td><td>rear</td><td>null</td></tr><tr><td>BMW</td><td>19999</td><td>sedan</td><td>290</td><td>4.8</td><td>Petrol</td><td>yes</td><td>2006</td><td>750</td><td>rear</td><td>null</td></tr><tr><td>BMW</td><td>129222</td><td>sedan</td><td>2</td><td>5.0</td><td>Petrol</td><td>yes</td><td>2016</td><td>750</td><td>full</td><td>null</td></tr><tr><td>Mercedes-Benz</td><td>99999</td><td>crossover</td><td>0</td><td>3.0</td><td>Petrol</td><td>yes</td><td>2016</td><td>GLE-Class</td><td>full</td><td>null</td></tr><tr><td>Nissan</td><td>16600</td><td>crossover</td><td>83</td><td>2.0</td><td>Petrol</td><td>yes</td><td>2013</td><td>X-Trail</td><td>full</td><td>null</td></tr><tr><td>Porsche</td><td>55000</td><td>crossover</td><td>105</td><td>3.0</td><td>Diesel</td><td>yes</td><td>2012</td><td>Cayenne</td><td>full</td><td>null</td></tr><tr><td>Kia</td><td>null</td><td>crossover</td><td>64</td><td>2.0</td><td>Diesel</td><td>yes</td><td>2011</td><td>Sportage</td><td>full</td><td>{\"price\":\"1.80E+04\",\"_file_path\":\"dbfs:/FileStore/datasets/car_source_stream/car_ad_04.csv\"}</td></tr><tr><td>Kia</td><td>21700</td><td>crossover</td><td>58</td><td>2.0</td><td>Diesel</td><td>yes</td><td>2012</td><td>Sportage</td><td>full</td><td>null</td></tr><tr><td>Volkswagen</td><td>2400</td><td>vagon</td><td>320</td><td>1.9</td><td>Diesel</td><td>no</td><td>2000</td><td>Passat B5</td><td>front</td><td>null</td></tr><tr><td>Volkswagen</td><td>2350</td><td>sedan</td><td>300</td><td>1.9</td><td>Diesel</td><td>no</td><td>1998</td><td>Passat B5</td><td>front</td><td>null</td></tr><tr><td>Honda</td><td>18600</td><td>vagon</td><td>98</td><td>2.4</td><td>Gas</td><td>yes</td><td>2011</td><td>Accord</td><td>front</td><td>null</td></tr><tr><td>Mercedes-Benz</td><td>104999</td><td>crossover</td><td>1</td><td>3.0</td><td>Diesel</td><td>yes</td><td>2016</td><td>GLE-Class</td><td>full</td><td>null</td></tr><tr><td>Toyota</td><td>195000</td><td>crossover</td><td>0</td><td>4.5</td><td>Diesel</td><td>yes</td><td>2016</td><td>Land Cruiser 200</td><td>full</td><td>null</td></tr><tr><td>Porsche</td><td>49900</td><td>crossover</td><td>73</td><td>3.0</td><td>Diesel</td><td>yes</td><td>2011</td><td>Cayenne</td><td>full</td><td>null</td></tr><tr><td>Porsche</td><td>50900</td><td>crossover</td><td>53</td><td>3.6</td><td>Petrol</td><td>yes</td><td>2013</td><td>Cayenne</td><td>full</td><td>null</td></tr><tr><td>Porsche</td><td>99999</td><td>crossover</td><td>1</td><td>2.99</td><td>Diesel</td><td>yes</td><td>2016</td><td>Cayenne</td><td>full</td><td>null</td></tr><tr><td>Mercedes-Benz</td><td>0</td><td>crossover</td><td>0</td><td>3.0</td><td>Diesel</td><td>yes</td><td>2016</td><td>GLE-Class</td><td>full</td><td>null</td></tr><tr><td>Toyota</td><td>0</td><td>crossover</td><td>0</td><td>4.5</td><td>Diesel</td><td>yes</td><td>2016</td><td>Land Cruiser 200</td><td>full</td><td>null</td></tr><tr><td>Toyota</td><td>102999</td><td>crossover</td><td>0</td><td>4.5</td><td>Diesel</td><td>yes</td><td>2016</td><td>Land Cruiser 200</td><td>full</td><td>null</td></tr><tr><td>Audi</td><td>35900</td><td>crossover</td><td>143</td><td>3.0</td><td>Diesel</td><td>yes</td><td>2010</td><td>Q7</td><td>full</td><td>null</td></tr><tr><td>Honda</td><td>16500</td><td>sedan</td><td>147</td><td>2.4</td><td>Petrol</td><td>yes</td><td>2009</td><td>Accord</td><td>front</td><td>null</td></tr><tr><td>Toyota</td><td>103999</td><td>crossover</td><td>0</td><td>4.5</td><td>Diesel</td><td>yes</td><td>2016</td><td>Land Cruiser 200</td><td>full</td><td>null</td></tr><tr><td>Porsche</td><td>114900</td><td>crossover</td><td>25</td><td>4.8</td><td>Petrol</td><td>yes</td><td>2013</td><td>Cayenne</td><td>full</td><td>null</td></tr><tr><td>Porsche</td><td>26500</td><td>crossover</td><td>160</td><td>4.8</td><td>Petrol</td><td>yes</td><td>2008</td><td>Cayenne</td><td>full</td><td>null</td></tr><tr><td>Mitsubishi</td><td>12999</td><td>crossover</td><td>140</td><td>2.4</td><td>Gas</td><td>yes</td><td>2007</td><td>Outlander XL</td><td>full</td><td>null</td></tr><tr><td>Audi</td><td>37000</td><td>sedan</td><td>37</td><td>2.8</td><td>Petrol</td><td>yes</td><td>2012</td><td>A6</td><td>full</td><td>null</td></tr><tr><td>Mercedes-Benz</td><td>null</td><td>van</td><td>19</td><td>3.5</td><td>Petrol</td><td>yes</td><td>2013</td><td>Sprinter 324 пасс.</td><td>rear</td><td>{\"price\":\"2.00E+05\",\"_file_path\":\"dbfs:/FileStore/datasets/car_source_stream/car_ad_03.csv\"}</td></tr><tr><td>Audi</td><td>3850</td><td>vagon</td><td>215</td><td>2.5</td><td>Diesel</td><td>no</td><td>2002</td><td>A6</td><td>front</td><td>null</td></tr><tr><td>Nissan</td><td>13275</td><td>hatch</td><td>12</td><td>null</td><td>Other</td><td>yes</td><td>2013</td><td>Leaf</td><td>front</td><td>{\"engV\":\"NA\",\"_file_path\":\"dbfs:/FileStore/datasets/car_source_stream/car_ad_03.csv\"}</td></tr><tr><td>Mercedes-Benz</td><td>20400</td><td>sedan</td><td>190</td><td>1.8</td><td>Gas</td><td>yes</td><td>2011</td><td>E-Class</td><td>rear</td><td>null</td></tr><tr><td>BMW</td><td>1900</td><td>sedan</td><td>300</td><td>2.5</td><td>Diesel</td><td>no</td><td>1997</td><td>5 Series</td><td>rear</td><td>null</td></tr><tr><td>BMW</td><td>39333</td><td>sedan</td><td>6</td><td>2.0</td><td>Petrol</td><td>yes</td><td>2016</td><td>520</td><td>null</td><td>null</td></tr><tr><td>Mercedes-Benz</td><td>99999</td><td>crossover</td><td>0</td><td>2.99</td><td>Diesel</td><td>yes</td><td>2016</td><td>GLE-Class</td><td>full</td><td>null</td></tr><tr><td>Mercedes-Benz</td><td>70999</td><td>crossover</td><td>0</td><td>2.2</td><td>Diesel</td><td>yes</td><td>2016</td><td>GLE-Class</td><td>full</td><td>null</td></tr><tr><td>BMW</td><td>63500</td><td>crossover</td><td>1</td><td>2.0</td><td>Diesel</td><td>yes</td><td>2016</td><td>X5</td><td>full</td><td>null</td></tr><tr><td>BMW</td><td>59900</td><td>crossover</td><td>30</td><td>2.0</td><td>Diesel</td><td>yes</td><td>2016</td><td>X5</td><td>full</td><td>null</td></tr><tr><td>Mitsubishi</td><td>9200</td><td>crossover</td><td>110</td><td>2.4</td><td>Petrol</td><td>yes</td><td>2006</td><td>Outlander</td><td>full</td><td>null</td></tr><tr><td>Nissan</td><td>null</td><td>crossover</td><td>0</td><td>1.6</td><td>Petrol</td><td>yes</td><td>2015</td><td>Juke</td><td>front</td><td>{\"price\":\"20241.897\",\"_file_path\":\"dbfs:/FileStore/datasets/car_source_stream/car_ad_03.csv\"}</td></tr><tr><td>Mercedes-Benz</td><td>14490</td><td>vagon</td><td>212</td><td>2.2</td><td>Diesel</td><td>yes</td><td>2008</td><td>E-Class</td><td>rear</td><td>null</td></tr><tr><td>Mercedes-Benz</td><td>31500</td><td>sedan</td><td>123</td><td>2.2</td><td>Diesel</td><td>yes</td><td>2011</td><td>E-Class</td><td>null</td><td>null</td></tr><tr><td>Mercedes-Benz</td><td>0</td><td>crossover</td><td>0</td><td>3.0</td><td>Diesel</td><td>yes</td><td>2016</td><td>GLE-Class</td><td>full</td><td>null</td></tr><tr><td>Volkswagen</td><td>8999</td><td>sedan</td><td>120</td><td>1.9</td><td>Diesel</td><td>yes</td><td>2007</td><td>Passat B6</td><td>front</td><td>null</td></tr><tr><td>Audi</td><td>3650</td><td>sedan</td><td>240</td><td>2.5</td><td>Diesel</td><td>no</td><td>2000</td><td>A6</td><td>front</td><td>null</td></tr><tr><td>Nissan</td><td>17000</td><td>hatch</td><td>38</td><td>null</td><td>Other</td><td>yes</td><td>2013</td><td>Leaf</td><td>front</td><td>{\"engV\":\"NA\",\"_file_path\":\"dbfs:/FileStore/datasets/car_source_stream/car_ad_03.csv\"}</td></tr><tr><td>Mitsubishi</td><td>12000</td><td>sedan</td><td>121</td><td>2.4</td><td>Gas</td><td>yes</td><td>2009</td><td>Galant</td><td>front</td><td>null</td></tr><tr><td>Kia</td><td>null</td><td>crossover</td><td>0</td><td>1.7</td><td>Diesel</td><td>yes</td><td>2016</td><td>Sportage</td><td>front</td><td>{\"price\":\"20633.886\",\"_file_path\":\"dbfs:/FileStore/datasets/car_source_stream/car_ad_03.csv\"}</td></tr><tr><td>BMW</td><td>73900</td><td>sedan</td><td>57</td><td>4.4</td><td>Petrol</td><td>yes</td><td>2013</td><td>M5</td><td>rear</td><td>null</td></tr><tr><td>Land Rover</td><td>0</td><td>crossover</td><td>0</td><td>4.4</td><td>Diesel</td><td>yes</td><td>2016</td><td>Range Rover</td><td>full</td><td>null</td></tr><tr><td>Nissan</td><td>null</td><td>crossover</td><td>0</td><td>1.6</td><td>Diesel</td><td>yes</td><td>2016</td><td>X-Trail</td><td>full</td><td>{\"price\":\"26033.553\",\"_file_path\":\"dbfs:/FileStore/datasets/car_source_stream/car_ad_02.csv\"}</td></tr><tr><td>BMW</td><td>104999</td><td>crossover</td><td>2</td><td>3.0</td><td>Diesel</td><td>yes</td><td>2016</td><td>X5</td><td>full</td><td>null</td></tr><tr><td>BMW</td><td>66500</td><td>crossover</td><td>1</td><td>2.0</td><td>Diesel</td><td>yes</td><td>2016</td><td>X5</td><td>full</td><td>null</td></tr><tr><td>BMW</td><td>65099</td><td>crossover</td><td>0</td><td>2.0</td><td>Diesel</td><td>yes</td><td>2016</td><td>X5</td><td>full</td><td>null</td></tr><tr><td>BMW</td><td>23900</td><td>crossover</td><td>235</td><td>3.0</td><td>Diesel</td><td>yes</td><td>2007</td><td>X5</td><td>full</td><td>null</td></tr><tr><td>Mercedes-Benz</td><td>69999</td><td>crossover</td><td>0</td><td>2.2</td><td>Diesel</td><td>yes</td><td>2016</td><td>GLE-Class</td><td>full</td><td>null</td></tr><tr><td>BMW</td><td>66200</td><td>crossover</td><td>70</td><td>3.0</td><td>Diesel</td><td>yes</td><td>2014</td><td>X5</td><td>full</td><td>null</td></tr><tr><td>BMW</td><td>63000</td><td>crossover</td><td>0</td><td>2.0</td><td>Diesel</td><td>yes</td><td>2015</td><td>X5</td><td>full</td><td>null</td></tr><tr><td>Mercedes-Benz</td><td>105999</td><td>crossover</td><td>0</td><td>2.98</td><td>Diesel</td><td>yes</td><td>2016</td><td>GLE-Class</td><td>full</td><td>null</td></tr><tr><td>Nissan</td><td>13980</td><td>hatch</td><td>31</td><td>null</td><td>Other</td><td>yes</td><td>2013</td><td>Leaf</td><td>front</td><td>{\"engV\":\"NA\",\"_file_path\":\"dbfs:/FileStore/datasets/car_source_stream/car_ad_02.csv\"}</td></tr><tr><td>Nissan</td><td>17300</td><td>hatch</td><td>24</td><td>null</td><td>Other</td><td>yes</td><td>2013</td><td>Leaf</td><td>front</td><td>{\"engV\":\"NA\",\"_file_path\":\"dbfs:/FileStore/datasets/car_source_stream/car_ad_02.csv\"}</td></tr><tr><td>Volkswagen</td><td>10700</td><td>sedan</td><td>147</td><td>2.0</td><td>Petrol</td><td>yes</td><td>2007</td><td>Passat B6</td><td>front</td><td>null</td></tr><tr><td>Audi</td><td>2600</td><td>vagon</td><td>273</td><td>2.5</td><td>Diesel</td><td>no</td><td>1999</td><td>A6</td><td>front</td><td>null</td></tr><tr><td>Chrysler</td><td>13700</td><td>sedan</td><td>70</td><td>2.4</td><td>Petrol</td><td>yes</td><td>2008</td><td>Sebring</td><td>front</td><td>null</td></tr><tr><td>Volkswagen</td><td>8999</td><td>sedan</td><td>120</td><td>2.0</td><td>Petrol</td><td>yes</td><td>2008</td><td>Passat B6</td><td>front</td><td>null</td></tr><tr><td>Jaguar</td><td>18777</td><td>sedan</td><td>82</td><td>3.0</td><td>Petrol</td><td>yes</td><td>2008</td><td>XF</td><td>rear</td><td>null</td></tr><tr><td>Audi</td><td>2850</td><td>sedan</td><td>260</td><td>null</td><td>Other</td><td>no</td><td>1999</td><td>A6</td><td>null</td><td>{\"engV\":\"NA\",\"_file_path\":\"dbfs:/FileStore/datasets/car_source_stream/car_ad_02.csv\"}</td></tr><tr><td>Honda</td><td>30000</td><td>sedan</td><td>52</td><td>3.5</td><td>Gas</td><td>yes</td><td>2014</td><td>Accord</td><td>front</td><td>null</td></tr><tr><td>Porsche</td><td>null</td><td>crossover</td><td>135</td><td>4.8</td><td>Petrol</td><td>yes</td><td>2008</td><td>Cayenne</td><td>full</td><td>{\"price\":\"2.69E+04\",\"_file_path\":\"dbfs:/FileStore/datasets/car_source_stream/car_ad_05.csv\"}</td></tr><tr><td>Toyota</td><td>80000</td><td>crossover</td><td>23</td><td>4.5</td><td>Diesel</td><td>yes</td><td>2014</td><td>Land Cruiser 200</td><td>full</td><td>null</td></tr><tr><td>BMW</td><td>8500</td><td>sedan</td><td>260</td><td>2.2</td><td>Gas</td><td>yes</td><td>2001</td><td>520</td><td>rear</td><td>null</td></tr><tr><td>Mercedes-Benz</td><td>7000</td><td>van</td><td>197</td><td>2.2</td><td>Diesel</td><td>yes</td><td>2002</td><td>Vito пасс.</td><td>front</td><td>null</td></tr><tr><td>Audi</td><td>36000</td><td>crossover</td><td>145</td><td>3.0</td><td>Petrol</td><td>yes</td><td>2010</td><td>Q7</td><td>full</td><td>null</td></tr><tr><td>Mercedes-Benz</td><td>9500</td><td>van</td><td>280</td><td>2.2</td><td>Diesel</td><td>yes</td><td>2005</td><td>Vito пасс.</td><td>rear</td><td>null</td></tr><tr><td>Toyota</td><td>103999</td><td>crossover</td><td>0</td><td>4.5</td><td>Diesel</td><td>yes</td><td>2016</td><td>Land Cruiser 200</td><td>full</td><td>null</td></tr><tr><td>Toyota</td><td>null</td><td>crossover</td><td>0</td><td>4.5</td><td>Diesel</td><td>yes</td><td>2016</td><td>Land Cruiser 200</td><td>full</td><td>{\"price\":\"1.00E+05\",\"_file_path\":\"dbfs:/FileStore/datasets/car_source_stream/car_ad_05.csv\"}</td></tr><tr><td>Mercedes-Benz</td><td>16500</td><td>other</td><td>107</td><td>2.2</td><td>Diesel</td><td>yes</td><td>2010</td><td>Vito пасс.</td><td>front</td><td>null</td></tr><tr><td>Toyota</td><td>15500</td><td>sedan</td><td>120</td><td>3.5</td><td>Petrol</td><td>yes</td><td>2008</td><td>Camry</td><td>front</td><td>null</td></tr><tr><td>Porsche</td><td>0</td><td>sedan</td><td>22</td><td>4.8</td><td>Petrol</td><td>yes</td><td>2014</td><td>Panamera</td><td>full</td><td>null</td></tr><tr><td>Mercedes-Benz</td><td>10999</td><td>van</td><td>191</td><td>2.2</td><td>Diesel</td><td>yes</td><td>2007</td><td>Vito пасс.</td><td>rear</td><td>null</td></tr><tr><td>Audi</td><td>0</td><td>crossover</td><td>0</td><td>3.0</td><td>Diesel</td><td>yes</td><td>2015</td><td>Q7</td><td>full</td><td>null</td></tr><tr><td>Audi</td><td>88888</td><td>crossover</td><td>0</td><td>3.0</td><td>Diesel</td><td>yes</td><td>2015</td><td>Q7</td><td>full</td><td>null</td></tr><tr><td>Toyota</td><td>0</td><td>crossover</td><td>49</td><td>4.5</td><td>Diesel</td><td>yes</td><td>2014</td><td>Land Cruiser 200</td><td>full</td><td>null</td></tr><tr><td>Mercedes-Benz</td><td>16500</td><td>van</td><td>223</td><td>2.2</td><td>Diesel</td><td>yes</td><td>2009</td><td>Vito пасс.</td><td>rear</td><td>null</td></tr><tr><td>Volkswagen</td><td>17900</td><td>crossover</td><td>145</td><td>3.0</td><td>Diesel</td><td>yes</td><td>2007</td><td>Touareg</td><td>full</td><td>null</td></tr><tr><td>Volkswagen</td><td>0</td><td>van</td><td>165</td><td>2.0</td><td>Diesel</td><td>yes</td><td>2013</td><td>T5 (Transporter) груз</td><td>front</td><td>null</td></tr><tr><td>Mercedes-Benz</td><td>20400</td><td>sedan</td><td>190</td><td>1.8</td><td>Gas</td><td>yes</td><td>2011</td><td>E-Class</td><td>rear</td><td>null</td></tr><tr><td>Volkswagen</td><td>20000</td><td>crossover</td><td>115</td><td>2.5</td><td>Diesel</td><td>yes</td><td>2008</td><td>Touareg</td><td>full</td><td>null</td></tr><tr><td>BMW</td><td>null</td><td>sedan</td><td>186</td><td>3.0</td><td>Petrol</td><td>yes</td><td>2007</td><td>530</td><td>rear</td><td>{\"price\":\"2.10E+04\",\"_file_path\":\"dbfs:/FileStore/datasets/car_source_stream/car_ad_06.csv\"}</td></tr><tr><td>Hyundai</td><td>11800</td><td>sedan</td><td>65</td><td>1.4</td><td>Petrol</td><td>yes</td><td>2013</td><td>Accent</td><td>front</td><td>null</td></tr><tr><td>Mercedes-Benz</td><td>0</td><td>van</td><td>450</td><td>2.2</td><td>Diesel</td><td>yes</td><td>2000</td><td>Vito пасс.</td><td>front</td><td>null</td></tr><tr><td>Volkswagen</td><td>10000</td><td>van</td><td>231</td><td>1.9</td><td>Diesel</td><td>yes</td><td>2005</td><td>T5 (Transporter) пасс.</td><td>null</td><td>null</td></tr><tr><td>Volkswagen</td><td>37990</td><td>crossover</td><td>140</td><td>3.0</td><td>Diesel</td><td>yes</td><td>2012</td><td>Touareg</td><td>full</td><td>null</td></tr><tr><td>Porsche</td><td>0</td><td>crossover</td><td>0</td><td>3.0</td><td>Diesel</td><td>yes</td><td>2016</td><td>Cayenne</td><td>full</td><td>null</td></tr><tr><td>BMW</td><td>3900</td><td>vagon</td><td>240</td><td>3.0</td><td>Diesel</td><td>no</td><td>2001</td><td>530</td><td>rear</td><td>null</td></tr><tr><td>Volkswagen</td><td>null</td><td>crossover</td><td>98</td><td>null</td><td>Petrol</td><td>yes</td><td>2013</td><td>Touareg</td><td>full</td><td>{\"price\":\"3.35E+04\",\"engV\":\"NA\",\"_file_path\":\"dbfs:/FileStore/datasets/car_source_stream/car_ad_06.csv\"}</td></tr><tr><td>Hyundai</td><td>9700</td><td>sedan</td><td>54</td><td>1.4</td><td>Petrol</td><td>yes</td><td>2013</td><td>Accent</td><td>front</td><td>null</td></tr><tr><td>Nissan</td><td>12400</td><td>hatch</td><td>26</td><td>null</td><td>Other</td><td>yes</td><td>2011</td><td>Leaf</td><td>null</td><td>{\"engV\":\"NA\",\"_file_path\":\"dbfs:/FileStore/datasets/car_source_stream/car_ad_06.csv\"}</td></tr><tr><td>Mercedes-Benz</td><td>6200</td><td>sedan</td><td>221</td><td>1.8</td><td>Gas</td><td>yes</td><td>2004</td><td>E-Class</td><td>rear</td><td>null</td></tr><tr><td>Renault</td><td>10500</td><td>vagon</td><td>185</td><td>1.5</td><td>Diesel</td><td>yes</td><td>2011</td><td>Megane</td><td>front</td><td>null</td></tr><tr><td>Hyundai</td><td>6900</td><td>crossover</td><td>105</td><td>1.6</td><td>Petrol</td><td>yes</td><td>2009</td><td>Accent</td><td>front</td><td>null</td></tr><tr><td>Mercedes-Benz</td><td>20300</td><td>sedan</td><td>198</td><td>1.8</td><td>Gas</td><td>yes</td><td>2011</td><td>E-Class</td><td>rear</td><td>null</td></tr><tr><td>Audi</td><td>18500</td><td>crossover</td><td>185</td><td>3.6</td><td>Petrol</td><td>yes</td><td>2008</td><td>Q7</td><td>full</td><td>null</td></tr><tr><td>Toyota</td><td>73900</td><td>crossover</td><td>1</td><td>4.5</td><td>Diesel</td><td>yes</td><td>2016</td><td>Land Cruiser 200</td><td>full</td><td>null</td></tr><tr><td>Toyota</td><td>30500</td><td>crossover</td><td>40</td><td>2.7</td><td>Petrol</td><td>yes</td><td>2011</td><td>Land Cruiser Prado</td><td>full</td><td>null</td></tr><tr><td>Toyota</td><td>30800</td><td>crossover</td><td>56</td><td>2.7</td><td>Gas</td><td>yes</td><td>2011</td><td>Land Cruiser Prado</td><td>full</td><td>null</td></tr><tr><td>Toyota</td><td>25500</td><td>crossover</td><td>200</td><td>4.0</td><td>Petrol</td><td>yes</td><td>2007</td><td>Land Cruiser Prado</td><td>full</td><td>null</td></tr><tr><td>Mercedes-Benz</td><td>29500</td><td>sedan</td><td>37</td><td>1.8</td><td>Petrol</td><td>yes</td><td>2012</td><td>E-Class</td><td>null</td><td>null</td></tr><tr><td>Opel</td><td>null</td><td>vagon</td><td>231</td><td>2.0</td><td>Diesel</td><td>no</td><td>2005</td><td>Vectra C</td><td>front</td><td>{\"price\":\"3.55E+03\",\"_file_path\":\"dbfs:/FileStore/datasets/car_source_stream/car_ad_07.csv\"}</td></tr><tr><td>Volkswagen</td><td>0</td><td>van</td><td>162</td><td>2.0</td><td>Diesel</td><td>yes</td><td>2011</td><td>T5 (Transporter) груз</td><td>front</td><td>null</td></tr></tbody></table></div>"
      ]
     },
     "metadata": {
      "application/vnd.databricks.v1+output": {
       "addedWidgets": {},
       "aggData": [],
       "aggError": "",
       "aggOverflow": false,
       "aggSchema": [],
       "aggSeriesLimitReached": false,
       "aggType": "",
       "arguments": {},
       "columnCustomDisplayInfos": {},
       "data": [
        [
         "Ford",
         15500,
         "crossover",
         68,
         2.5,
         "Gas",
         "yes",
         2010,
         "Kuga",
         "full",
         null
        ],
        [
         "Mercedes-Benz",
         20500,
         "sedan",
         173,
         1.8,
         "Gas",
         "yes",
         2011,
         "E-Class",
         "rear",
         null
        ],
        [
         "Mercedes-Benz",
         35000,
         "other",
         135,
         5.5,
         "Petrol",
         "yes",
         2008,
         "CL 550",
         "rear",
         null
        ],
        [
         "Mercedes-Benz",
         17800,
         "van",
         162,
         1.8,
         "Diesel",
         "yes",
         2012,
         "B 180",
         "front",
         null
        ],
        [
         "Nissan",
         16600,
         "crossover",
         83,
         2.0,
         "Petrol",
         "yes",
         2013,
         "X-Trail",
         "full",
         null
        ],
        [
         "Honda",
         6500,
         "sedan",
         199,
         2.0,
         "Petrol",
         "yes",
         2003,
         "Accord",
         "front",
         null
        ],
        [
         "Renault",
         10500,
         "vagon",
         185,
         1.5,
         "Diesel",
         "yes",
         2011,
         "Megane",
         "front",
         null
        ],
        [
         "Mercedes-Benz",
         21500,
         "sedan",
         146,
         1.8,
         "Gas",
         "yes",
         2012,
         "E-Class",
         "rear",
         null
        ],
        [
         "Mercedes-Benz",
         22700,
         "sedan",
         125,
         2.2,
         "Diesel",
         "yes",
         2010,
         "E-Class",
         "rear",
         null
        ],
        [
         "Nissan",
         null,
         "crossover",
         0,
         1.2,
         "Petrol",
         "yes",
         2016,
         "Qashqai",
         "front",
         "{\"price\":\"20447.154\",\"_file_path\":\"dbfs:/FileStore/datasets/car_source_stream/car_ad_01.csv\"}"
        ],
        [
         "Mercedes-Benz",
         20400,
         "sedan",
         190,
         1.8,
         "Gas",
         "yes",
         2011,
         "E-Class",
         "rear",
         null
        ],
        [
         "Mercedes-Benz",
         22500,
         "sedan",
         164,
         1.8,
         "Gas",
         "yes",
         2012,
         "E-Class",
         "rear",
         null
        ],
        [
         "BMW",
         4700,
         "sedan",
         200,
         null,
         "Petrol",
         "yes",
         1996,
         "316",
         "rear",
         "{\"engV\":\"NA\",\"_file_path\":\"dbfs:/FileStore/datasets/car_source_stream/car_ad_01.csv\"}"
        ],
        [
         "Mercedes-Benz",
         21500,
         "sedan",
         159,
         1.8,
         "Gas",
         "yes",
         2012,
         "E-Class",
         "rear",
         null
        ],
        [
         "BMW",
         19999,
         "sedan",
         290,
         4.8,
         "Petrol",
         "yes",
         2006,
         "750",
         "rear",
         null
        ],
        [
         "BMW",
         129222,
         "sedan",
         2,
         5.0,
         "Petrol",
         "yes",
         2016,
         "750",
         "full",
         null
        ],
        [
         "Mercedes-Benz",
         99999,
         "crossover",
         0,
         3.0,
         "Petrol",
         "yes",
         2016,
         "GLE-Class",
         "full",
         null
        ],
        [
         "Nissan",
         16600,
         "crossover",
         83,
         2.0,
         "Petrol",
         "yes",
         2013,
         "X-Trail",
         "full",
         null
        ],
        [
         "Porsche",
         55000,
         "crossover",
         105,
         3.0,
         "Diesel",
         "yes",
         2012,
         "Cayenne",
         "full",
         null
        ],
        [
         "Kia",
         null,
         "crossover",
         64,
         2.0,
         "Diesel",
         "yes",
         2011,
         "Sportage",
         "full",
         "{\"price\":\"1.80E+04\",\"_file_path\":\"dbfs:/FileStore/datasets/car_source_stream/car_ad_04.csv\"}"
        ],
        [
         "Kia",
         21700,
         "crossover",
         58,
         2.0,
         "Diesel",
         "yes",
         2012,
         "Sportage",
         "full",
         null
        ],
        [
         "Volkswagen",
         2400,
         "vagon",
         320,
         1.9,
         "Diesel",
         "no",
         2000,
         "Passat B5",
         "front",
         null
        ],
        [
         "Volkswagen",
         2350,
         "sedan",
         300,
         1.9,
         "Diesel",
         "no",
         1998,
         "Passat B5",
         "front",
         null
        ],
        [
         "Honda",
         18600,
         "vagon",
         98,
         2.4,
         "Gas",
         "yes",
         2011,
         "Accord",
         "front",
         null
        ],
        [
         "Mercedes-Benz",
         104999,
         "crossover",
         1,
         3.0,
         "Diesel",
         "yes",
         2016,
         "GLE-Class",
         "full",
         null
        ],
        [
         "Toyota",
         195000,
         "crossover",
         0,
         4.5,
         "Diesel",
         "yes",
         2016,
         "Land Cruiser 200",
         "full",
         null
        ],
        [
         "Porsche",
         49900,
         "crossover",
         73,
         3.0,
         "Diesel",
         "yes",
         2011,
         "Cayenne",
         "full",
         null
        ],
        [
         "Porsche",
         50900,
         "crossover",
         53,
         3.6,
         "Petrol",
         "yes",
         2013,
         "Cayenne",
         "full",
         null
        ],
        [
         "Porsche",
         99999,
         "crossover",
         1,
         2.99,
         "Diesel",
         "yes",
         2016,
         "Cayenne",
         "full",
         null
        ],
        [
         "Mercedes-Benz",
         0,
         "crossover",
         0,
         3.0,
         "Diesel",
         "yes",
         2016,
         "GLE-Class",
         "full",
         null
        ],
        [
         "Toyota",
         0,
         "crossover",
         0,
         4.5,
         "Diesel",
         "yes",
         2016,
         "Land Cruiser 200",
         "full",
         null
        ],
        [
         "Toyota",
         102999,
         "crossover",
         0,
         4.5,
         "Diesel",
         "yes",
         2016,
         "Land Cruiser 200",
         "full",
         null
        ],
        [
         "Audi",
         35900,
         "crossover",
         143,
         3.0,
         "Diesel",
         "yes",
         2010,
         "Q7",
         "full",
         null
        ],
        [
         "Honda",
         16500,
         "sedan",
         147,
         2.4,
         "Petrol",
         "yes",
         2009,
         "Accord",
         "front",
         null
        ],
        [
         "Toyota",
         103999,
         "crossover",
         0,
         4.5,
         "Diesel",
         "yes",
         2016,
         "Land Cruiser 200",
         "full",
         null
        ],
        [
         "Porsche",
         114900,
         "crossover",
         25,
         4.8,
         "Petrol",
         "yes",
         2013,
         "Cayenne",
         "full",
         null
        ],
        [
         "Porsche",
         26500,
         "crossover",
         160,
         4.8,
         "Petrol",
         "yes",
         2008,
         "Cayenne",
         "full",
         null
        ],
        [
         "Mitsubishi",
         12999,
         "crossover",
         140,
         2.4,
         "Gas",
         "yes",
         2007,
         "Outlander XL",
         "full",
         null
        ],
        [
         "Audi",
         37000,
         "sedan",
         37,
         2.8,
         "Petrol",
         "yes",
         2012,
         "A6",
         "full",
         null
        ],
        [
         "Mercedes-Benz",
         null,
         "van",
         19,
         3.5,
         "Petrol",
         "yes",
         2013,
         "Sprinter 324 пасс.",
         "rear",
         "{\"price\":\"2.00E+05\",\"_file_path\":\"dbfs:/FileStore/datasets/car_source_stream/car_ad_03.csv\"}"
        ],
        [
         "Audi",
         3850,
         "vagon",
         215,
         2.5,
         "Diesel",
         "no",
         2002,
         "A6",
         "front",
         null
        ],
        [
         "Nissan",
         13275,
         "hatch",
         12,
         null,
         "Other",
         "yes",
         2013,
         "Leaf",
         "front",
         "{\"engV\":\"NA\",\"_file_path\":\"dbfs:/FileStore/datasets/car_source_stream/car_ad_03.csv\"}"
        ],
        [
         "Mercedes-Benz",
         20400,
         "sedan",
         190,
         1.8,
         "Gas",
         "yes",
         2011,
         "E-Class",
         "rear",
         null
        ],
        [
         "BMW",
         1900,
         "sedan",
         300,
         2.5,
         "Diesel",
         "no",
         1997,
         "5 Series",
         "rear",
         null
        ],
        [
         "BMW",
         39333,
         "sedan",
         6,
         2.0,
         "Petrol",
         "yes",
         2016,
         "520",
         null,
         null
        ],
        [
         "Mercedes-Benz",
         99999,
         "crossover",
         0,
         2.99,
         "Diesel",
         "yes",
         2016,
         "GLE-Class",
         "full",
         null
        ],
        [
         "Mercedes-Benz",
         70999,
         "crossover",
         0,
         2.2,
         "Diesel",
         "yes",
         2016,
         "GLE-Class",
         "full",
         null
        ],
        [
         "BMW",
         63500,
         "crossover",
         1,
         2.0,
         "Diesel",
         "yes",
         2016,
         "X5",
         "full",
         null
        ],
        [
         "BMW",
         59900,
         "crossover",
         30,
         2.0,
         "Diesel",
         "yes",
         2016,
         "X5",
         "full",
         null
        ],
        [
         "Mitsubishi",
         9200,
         "crossover",
         110,
         2.4,
         "Petrol",
         "yes",
         2006,
         "Outlander",
         "full",
         null
        ],
        [
         "Nissan",
         null,
         "crossover",
         0,
         1.6,
         "Petrol",
         "yes",
         2015,
         "Juke",
         "front",
         "{\"price\":\"20241.897\",\"_file_path\":\"dbfs:/FileStore/datasets/car_source_stream/car_ad_03.csv\"}"
        ],
        [
         "Mercedes-Benz",
         14490,
         "vagon",
         212,
         2.2,
         "Diesel",
         "yes",
         2008,
         "E-Class",
         "rear",
         null
        ],
        [
         "Mercedes-Benz",
         31500,
         "sedan",
         123,
         2.2,
         "Diesel",
         "yes",
         2011,
         "E-Class",
         null,
         null
        ],
        [
         "Mercedes-Benz",
         0,
         "crossover",
         0,
         3.0,
         "Diesel",
         "yes",
         2016,
         "GLE-Class",
         "full",
         null
        ],
        [
         "Volkswagen",
         8999,
         "sedan",
         120,
         1.9,
         "Diesel",
         "yes",
         2007,
         "Passat B6",
         "front",
         null
        ],
        [
         "Audi",
         3650,
         "sedan",
         240,
         2.5,
         "Diesel",
         "no",
         2000,
         "A6",
         "front",
         null
        ],
        [
         "Nissan",
         17000,
         "hatch",
         38,
         null,
         "Other",
         "yes",
         2013,
         "Leaf",
         "front",
         "{\"engV\":\"NA\",\"_file_path\":\"dbfs:/FileStore/datasets/car_source_stream/car_ad_03.csv\"}"
        ],
        [
         "Mitsubishi",
         12000,
         "sedan",
         121,
         2.4,
         "Gas",
         "yes",
         2009,
         "Galant",
         "front",
         null
        ],
        [
         "Kia",
         null,
         "crossover",
         0,
         1.7,
         "Diesel",
         "yes",
         2016,
         "Sportage",
         "front",
         "{\"price\":\"20633.886\",\"_file_path\":\"dbfs:/FileStore/datasets/car_source_stream/car_ad_03.csv\"}"
        ],
        [
         "BMW",
         73900,
         "sedan",
         57,
         4.4,
         "Petrol",
         "yes",
         2013,
         "M5",
         "rear",
         null
        ],
        [
         "Land Rover",
         0,
         "crossover",
         0,
         4.4,
         "Diesel",
         "yes",
         2016,
         "Range Rover",
         "full",
         null
        ],
        [
         "Nissan",
         null,
         "crossover",
         0,
         1.6,
         "Diesel",
         "yes",
         2016,
         "X-Trail",
         "full",
         "{\"price\":\"26033.553\",\"_file_path\":\"dbfs:/FileStore/datasets/car_source_stream/car_ad_02.csv\"}"
        ],
        [
         "BMW",
         104999,
         "crossover",
         2,
         3.0,
         "Diesel",
         "yes",
         2016,
         "X5",
         "full",
         null
        ],
        [
         "BMW",
         66500,
         "crossover",
         1,
         2.0,
         "Diesel",
         "yes",
         2016,
         "X5",
         "full",
         null
        ],
        [
         "BMW",
         65099,
         "crossover",
         0,
         2.0,
         "Diesel",
         "yes",
         2016,
         "X5",
         "full",
         null
        ],
        [
         "BMW",
         23900,
         "crossover",
         235,
         3.0,
         "Diesel",
         "yes",
         2007,
         "X5",
         "full",
         null
        ],
        [
         "Mercedes-Benz",
         69999,
         "crossover",
         0,
         2.2,
         "Diesel",
         "yes",
         2016,
         "GLE-Class",
         "full",
         null
        ],
        [
         "BMW",
         66200,
         "crossover",
         70,
         3.0,
         "Diesel",
         "yes",
         2014,
         "X5",
         "full",
         null
        ],
        [
         "BMW",
         63000,
         "crossover",
         0,
         2.0,
         "Diesel",
         "yes",
         2015,
         "X5",
         "full",
         null
        ],
        [
         "Mercedes-Benz",
         105999,
         "crossover",
         0,
         2.98,
         "Diesel",
         "yes",
         2016,
         "GLE-Class",
         "full",
         null
        ],
        [
         "Nissan",
         13980,
         "hatch",
         31,
         null,
         "Other",
         "yes",
         2013,
         "Leaf",
         "front",
         "{\"engV\":\"NA\",\"_file_path\":\"dbfs:/FileStore/datasets/car_source_stream/car_ad_02.csv\"}"
        ],
        [
         "Nissan",
         17300,
         "hatch",
         24,
         null,
         "Other",
         "yes",
         2013,
         "Leaf",
         "front",
         "{\"engV\":\"NA\",\"_file_path\":\"dbfs:/FileStore/datasets/car_source_stream/car_ad_02.csv\"}"
        ],
        [
         "Volkswagen",
         10700,
         "sedan",
         147,
         2.0,
         "Petrol",
         "yes",
         2007,
         "Passat B6",
         "front",
         null
        ],
        [
         "Audi",
         2600,
         "vagon",
         273,
         2.5,
         "Diesel",
         "no",
         1999,
         "A6",
         "front",
         null
        ],
        [
         "Chrysler",
         13700,
         "sedan",
         70,
         2.4,
         "Petrol",
         "yes",
         2008,
         "Sebring",
         "front",
         null
        ],
        [
         "Volkswagen",
         8999,
         "sedan",
         120,
         2.0,
         "Petrol",
         "yes",
         2008,
         "Passat B6",
         "front",
         null
        ],
        [
         "Jaguar",
         18777,
         "sedan",
         82,
         3.0,
         "Petrol",
         "yes",
         2008,
         "XF",
         "rear",
         null
        ],
        [
         "Audi",
         2850,
         "sedan",
         260,
         null,
         "Other",
         "no",
         1999,
         "A6",
         null,
         "{\"engV\":\"NA\",\"_file_path\":\"dbfs:/FileStore/datasets/car_source_stream/car_ad_02.csv\"}"
        ],
        [
         "Honda",
         30000,
         "sedan",
         52,
         3.5,
         "Gas",
         "yes",
         2014,
         "Accord",
         "front",
         null
        ],
        [
         "Porsche",
         null,
         "crossover",
         135,
         4.8,
         "Petrol",
         "yes",
         2008,
         "Cayenne",
         "full",
         "{\"price\":\"2.69E+04\",\"_file_path\":\"dbfs:/FileStore/datasets/car_source_stream/car_ad_05.csv\"}"
        ],
        [
         "Toyota",
         80000,
         "crossover",
         23,
         4.5,
         "Diesel",
         "yes",
         2014,
         "Land Cruiser 200",
         "full",
         null
        ],
        [
         "BMW",
         8500,
         "sedan",
         260,
         2.2,
         "Gas",
         "yes",
         2001,
         "520",
         "rear",
         null
        ],
        [
         "Mercedes-Benz",
         7000,
         "van",
         197,
         2.2,
         "Diesel",
         "yes",
         2002,
         "Vito пасс.",
         "front",
         null
        ],
        [
         "Audi",
         36000,
         "crossover",
         145,
         3.0,
         "Petrol",
         "yes",
         2010,
         "Q7",
         "full",
         null
        ],
        [
         "Mercedes-Benz",
         9500,
         "van",
         280,
         2.2,
         "Diesel",
         "yes",
         2005,
         "Vito пасс.",
         "rear",
         null
        ],
        [
         "Toyota",
         103999,
         "crossover",
         0,
         4.5,
         "Diesel",
         "yes",
         2016,
         "Land Cruiser 200",
         "full",
         null
        ],
        [
         "Toyota",
         null,
         "crossover",
         0,
         4.5,
         "Diesel",
         "yes",
         2016,
         "Land Cruiser 200",
         "full",
         "{\"price\":\"1.00E+05\",\"_file_path\":\"dbfs:/FileStore/datasets/car_source_stream/car_ad_05.csv\"}"
        ],
        [
         "Mercedes-Benz",
         16500,
         "other",
         107,
         2.2,
         "Diesel",
         "yes",
         2010,
         "Vito пасс.",
         "front",
         null
        ],
        [
         "Toyota",
         15500,
         "sedan",
         120,
         3.5,
         "Petrol",
         "yes",
         2008,
         "Camry",
         "front",
         null
        ],
        [
         "Porsche",
         0,
         "sedan",
         22,
         4.8,
         "Petrol",
         "yes",
         2014,
         "Panamera",
         "full",
         null
        ],
        [
         "Mercedes-Benz",
         10999,
         "van",
         191,
         2.2,
         "Diesel",
         "yes",
         2007,
         "Vito пасс.",
         "rear",
         null
        ],
        [
         "Audi",
         0,
         "crossover",
         0,
         3.0,
         "Diesel",
         "yes",
         2015,
         "Q7",
         "full",
         null
        ],
        [
         "Audi",
         88888,
         "crossover",
         0,
         3.0,
         "Diesel",
         "yes",
         2015,
         "Q7",
         "full",
         null
        ],
        [
         "Toyota",
         0,
         "crossover",
         49,
         4.5,
         "Diesel",
         "yes",
         2014,
         "Land Cruiser 200",
         "full",
         null
        ],
        [
         "Mercedes-Benz",
         16500,
         "van",
         223,
         2.2,
         "Diesel",
         "yes",
         2009,
         "Vito пасс.",
         "rear",
         null
        ],
        [
         "Volkswagen",
         17900,
         "crossover",
         145,
         3.0,
         "Diesel",
         "yes",
         2007,
         "Touareg",
         "full",
         null
        ],
        [
         "Volkswagen",
         0,
         "van",
         165,
         2.0,
         "Diesel",
         "yes",
         2013,
         "T5 (Transporter) груз",
         "front",
         null
        ],
        [
         "Mercedes-Benz",
         20400,
         "sedan",
         190,
         1.8,
         "Gas",
         "yes",
         2011,
         "E-Class",
         "rear",
         null
        ],
        [
         "Volkswagen",
         20000,
         "crossover",
         115,
         2.5,
         "Diesel",
         "yes",
         2008,
         "Touareg",
         "full",
         null
        ],
        [
         "BMW",
         null,
         "sedan",
         186,
         3.0,
         "Petrol",
         "yes",
         2007,
         "530",
         "rear",
         "{\"price\":\"2.10E+04\",\"_file_path\":\"dbfs:/FileStore/datasets/car_source_stream/car_ad_06.csv\"}"
        ],
        [
         "Hyundai",
         11800,
         "sedan",
         65,
         1.4,
         "Petrol",
         "yes",
         2013,
         "Accent",
         "front",
         null
        ],
        [
         "Mercedes-Benz",
         0,
         "van",
         450,
         2.2,
         "Diesel",
         "yes",
         2000,
         "Vito пасс.",
         "front",
         null
        ],
        [
         "Volkswagen",
         10000,
         "van",
         231,
         1.9,
         "Diesel",
         "yes",
         2005,
         "T5 (Transporter) пасс.",
         null,
         null
        ],
        [
         "Volkswagen",
         37990,
         "crossover",
         140,
         3.0,
         "Diesel",
         "yes",
         2012,
         "Touareg",
         "full",
         null
        ],
        [
         "Porsche",
         0,
         "crossover",
         0,
         3.0,
         "Diesel",
         "yes",
         2016,
         "Cayenne",
         "full",
         null
        ],
        [
         "BMW",
         3900,
         "vagon",
         240,
         3.0,
         "Diesel",
         "no",
         2001,
         "530",
         "rear",
         null
        ],
        [
         "Volkswagen",
         null,
         "crossover",
         98,
         null,
         "Petrol",
         "yes",
         2013,
         "Touareg",
         "full",
         "{\"price\":\"3.35E+04\",\"engV\":\"NA\",\"_file_path\":\"dbfs:/FileStore/datasets/car_source_stream/car_ad_06.csv\"}"
        ],
        [
         "Hyundai",
         9700,
         "sedan",
         54,
         1.4,
         "Petrol",
         "yes",
         2013,
         "Accent",
         "front",
         null
        ],
        [
         "Nissan",
         12400,
         "hatch",
         26,
         null,
         "Other",
         "yes",
         2011,
         "Leaf",
         null,
         "{\"engV\":\"NA\",\"_file_path\":\"dbfs:/FileStore/datasets/car_source_stream/car_ad_06.csv\"}"
        ],
        [
         "Mercedes-Benz",
         6200,
         "sedan",
         221,
         1.8,
         "Gas",
         "yes",
         2004,
         "E-Class",
         "rear",
         null
        ],
        [
         "Renault",
         10500,
         "vagon",
         185,
         1.5,
         "Diesel",
         "yes",
         2011,
         "Megane",
         "front",
         null
        ],
        [
         "Hyundai",
         6900,
         "crossover",
         105,
         1.6,
         "Petrol",
         "yes",
         2009,
         "Accent",
         "front",
         null
        ],
        [
         "Mercedes-Benz",
         20300,
         "sedan",
         198,
         1.8,
         "Gas",
         "yes",
         2011,
         "E-Class",
         "rear",
         null
        ],
        [
         "Audi",
         18500,
         "crossover",
         185,
         3.6,
         "Petrol",
         "yes",
         2008,
         "Q7",
         "full",
         null
        ],
        [
         "Toyota",
         73900,
         "crossover",
         1,
         4.5,
         "Diesel",
         "yes",
         2016,
         "Land Cruiser 200",
         "full",
         null
        ],
        [
         "Toyota",
         30500,
         "crossover",
         40,
         2.7,
         "Petrol",
         "yes",
         2011,
         "Land Cruiser Prado",
         "full",
         null
        ],
        [
         "Toyota",
         30800,
         "crossover",
         56,
         2.7,
         "Gas",
         "yes",
         2011,
         "Land Cruiser Prado",
         "full",
         null
        ],
        [
         "Toyota",
         25500,
         "crossover",
         200,
         4.0,
         "Petrol",
         "yes",
         2007,
         "Land Cruiser Prado",
         "full",
         null
        ],
        [
         "Mercedes-Benz",
         29500,
         "sedan",
         37,
         1.8,
         "Petrol",
         "yes",
         2012,
         "E-Class",
         null,
         null
        ],
        [
         "Opel",
         null,
         "vagon",
         231,
         2.0,
         "Diesel",
         "no",
         2005,
         "Vectra C",
         "front",
         "{\"price\":\"3.55E+03\",\"_file_path\":\"dbfs:/FileStore/datasets/car_source_stream/car_ad_07.csv\"}"
        ],
        [
         "Volkswagen",
         0,
         "van",
         162,
         2.0,
         "Diesel",
         "yes",
         2011,
         "T5 (Transporter) груз",
         "front",
         null
        ]
       ],
       "datasetInfos": [],
       "dbfsResultPath": null,
       "isJsonSchema": true,
       "metadata": {},
       "overflow": false,
       "plotOptions": {
        "customPlotOptions": {},
        "displayType": "table",
        "pivotAggregation": null,
        "pivotColumns": null,
        "xColumns": null,
        "yColumns": null
       },
       "removedWidgets": [],
       "schema": [
        {
         "metadata": "{}",
         "name": "car",
         "type": "\"string\""
        },
        {
         "metadata": "{}",
         "name": "price",
         "type": "\"integer\""
        },
        {
         "metadata": "{}",
         "name": "body",
         "type": "\"string\""
        },
        {
         "metadata": "{}",
         "name": "mileage",
         "type": "\"integer\""
        },
        {
         "metadata": "{}",
         "name": "engV",
         "type": "\"float\""
        },
        {
         "metadata": "{}",
         "name": "engType",
         "type": "\"string\""
        },
        {
         "metadata": "{}",
         "name": "registration",
         "type": "\"string\""
        },
        {
         "metadata": "{}",
         "name": "year",
         "type": "\"integer\""
        },
        {
         "metadata": "{}",
         "name": "model",
         "type": "\"string\""
        },
        {
         "metadata": "{}",
         "name": "drive",
         "type": "\"string\""
        },
        {
         "metadata": "{}",
         "name": "_rescued_data",
         "type": "\"string\""
        }
       ],
       "type": "table"
      }
     },
     "output_type": "display_data"
    }
   ],
   "source": [
    "car_stream_data.display()"
   ]
  },
  {
   "cell_type": "code",
   "execution_count": 0,
   "metadata": {
    "application/vnd.databricks.v1+cell": {
     "cellMetadata": {
      "byteLimit": 2048000,
      "rowLimit": 10000
     },
     "inputWidgets": {},
     "nuid": "22b2e6ef-77cd-49a9-8f1a-902fc691d333",
     "showTitle": false,
     "title": ""
    }
   },
   "outputs": [
    {
     "output_type": "display_data",
     "data": {
      "text/html": [
       "<style scoped>\n",
       "  .table-result-container {\n",
       "    max-height: 300px;\n",
       "    overflow: auto;\n",
       "  }\n",
       "  table, th, td {\n",
       "    border: 1px solid black;\n",
       "    border-collapse: collapse;\n",
       "  }\n",
       "  th, td {\n",
       "    padding: 5px;\n",
       "  }\n",
       "  th {\n",
       "    text-align: left;\n",
       "  }\n",
       "</style><div class='table-result-container'><table class='table-result'><thead style='background-color: white'><tr><th>car</th><th>model</th><th>price</th><th>mileage</th><th>year</th></tr></thead><tbody><tr><td>Nissan</td><td>Qashqai</td><td>null</td><td>0</td><td>2016</td></tr><tr><td>BMW</td><td>750</td><td>129222</td><td>2</td><td>2016</td></tr><tr><td>Mercedes-Benz</td><td>GLE-Class</td><td>99999</td><td>0</td><td>2016</td></tr><tr><td>Mercedes-Benz</td><td>GLE-Class</td><td>104999</td><td>1</td><td>2016</td></tr><tr><td>Toyota</td><td>Land Cruiser 200</td><td>195000</td><td>0</td><td>2016</td></tr><tr><td>Porsche</td><td>Cayenne</td><td>99999</td><td>1</td><td>2016</td></tr><tr><td>Mercedes-Benz</td><td>GLE-Class</td><td>0</td><td>0</td><td>2016</td></tr><tr><td>Toyota</td><td>Land Cruiser 200</td><td>0</td><td>0</td><td>2016</td></tr><tr><td>Toyota</td><td>Land Cruiser 200</td><td>102999</td><td>0</td><td>2016</td></tr><tr><td>Toyota</td><td>Land Cruiser 200</td><td>103999</td><td>0</td><td>2016</td></tr><tr><td>BMW</td><td>520</td><td>39333</td><td>6</td><td>2016</td></tr><tr><td>Mercedes-Benz</td><td>GLE-Class</td><td>99999</td><td>0</td><td>2016</td></tr><tr><td>Mercedes-Benz</td><td>GLE-Class</td><td>70999</td><td>0</td><td>2016</td></tr><tr><td>BMW</td><td>X5</td><td>63500</td><td>1</td><td>2016</td></tr><tr><td>BMW</td><td>X5</td><td>59900</td><td>30</td><td>2016</td></tr><tr><td>Nissan</td><td>Juke</td><td>null</td><td>0</td><td>2015</td></tr><tr><td>Mercedes-Benz</td><td>GLE-Class</td><td>0</td><td>0</td><td>2016</td></tr><tr><td>Kia</td><td>Sportage</td><td>null</td><td>0</td><td>2016</td></tr><tr><td>Land Rover</td><td>Range Rover</td><td>0</td><td>0</td><td>2016</td></tr><tr><td>Nissan</td><td>X-Trail</td><td>null</td><td>0</td><td>2016</td></tr><tr><td>BMW</td><td>X5</td><td>104999</td><td>2</td><td>2016</td></tr><tr><td>BMW</td><td>X5</td><td>66500</td><td>1</td><td>2016</td></tr><tr><td>BMW</td><td>X5</td><td>65099</td><td>0</td><td>2016</td></tr><tr><td>Mercedes-Benz</td><td>GLE-Class</td><td>69999</td><td>0</td><td>2016</td></tr><tr><td>BMW</td><td>X5</td><td>63000</td><td>0</td><td>2015</td></tr><tr><td>Mercedes-Benz</td><td>GLE-Class</td><td>105999</td><td>0</td><td>2016</td></tr><tr><td>Toyota</td><td>Land Cruiser 200</td><td>103999</td><td>0</td><td>2016</td></tr><tr><td>Toyota</td><td>Land Cruiser 200</td><td>null</td><td>0</td><td>2016</td></tr><tr><td>Audi</td><td>Q7</td><td>0</td><td>0</td><td>2015</td></tr><tr><td>Audi</td><td>Q7</td><td>88888</td><td>0</td><td>2015</td></tr><tr><td>Porsche</td><td>Cayenne</td><td>0</td><td>0</td><td>2016</td></tr><tr><td>Toyota</td><td>Land Cruiser 200</td><td>73900</td><td>1</td><td>2016</td></tr></tbody></table></div>"
      ]
     },
     "metadata": {
      "application/vnd.databricks.v1+output": {
       "addedWidgets": {},
       "aggData": [],
       "aggError": "",
       "aggOverflow": false,
       "aggSchema": [],
       "aggSeriesLimitReached": false,
       "aggType": "",
       "arguments": {},
       "columnCustomDisplayInfos": {},
       "data": [
        [
         "Nissan",
         "Qashqai",
         null,
         0,
         2016
        ],
        [
         "BMW",
         "750",
         129222,
         2,
         2016
        ],
        [
         "Mercedes-Benz",
         "GLE-Class",
         99999,
         0,
         2016
        ],
        [
         "Mercedes-Benz",
         "GLE-Class",
         104999,
         1,
         2016
        ],
        [
         "Toyota",
         "Land Cruiser 200",
         195000,
         0,
         2016
        ],
        [
         "Porsche",
         "Cayenne",
         99999,
         1,
         2016
        ],
        [
         "Mercedes-Benz",
         "GLE-Class",
         0,
         0,
         2016
        ],
        [
         "Toyota",
         "Land Cruiser 200",
         0,
         0,
         2016
        ],
        [
         "Toyota",
         "Land Cruiser 200",
         102999,
         0,
         2016
        ],
        [
         "Toyota",
         "Land Cruiser 200",
         103999,
         0,
         2016
        ],
        [
         "BMW",
         "520",
         39333,
         6,
         2016
        ],
        [
         "Mercedes-Benz",
         "GLE-Class",
         99999,
         0,
         2016
        ],
        [
         "Mercedes-Benz",
         "GLE-Class",
         70999,
         0,
         2016
        ],
        [
         "BMW",
         "X5",
         63500,
         1,
         2016
        ],
        [
         "BMW",
         "X5",
         59900,
         30,
         2016
        ],
        [
         "Nissan",
         "Juke",
         null,
         0,
         2015
        ],
        [
         "Mercedes-Benz",
         "GLE-Class",
         0,
         0,
         2016
        ],
        [
         "Kia",
         "Sportage",
         null,
         0,
         2016
        ],
        [
         "Land Rover",
         "Range Rover",
         0,
         0,
         2016
        ],
        [
         "Nissan",
         "X-Trail",
         null,
         0,
         2016
        ],
        [
         "BMW",
         "X5",
         104999,
         2,
         2016
        ],
        [
         "BMW",
         "X5",
         66500,
         1,
         2016
        ],
        [
         "BMW",
         "X5",
         65099,
         0,
         2016
        ],
        [
         "Mercedes-Benz",
         "GLE-Class",
         69999,
         0,
         2016
        ],
        [
         "BMW",
         "X5",
         63000,
         0,
         2015
        ],
        [
         "Mercedes-Benz",
         "GLE-Class",
         105999,
         0,
         2016
        ],
        [
         "Toyota",
         "Land Cruiser 200",
         103999,
         0,
         2016
        ],
        [
         "Toyota",
         "Land Cruiser 200",
         null,
         0,
         2016
        ],
        [
         "Audi",
         "Q7",
         0,
         0,
         2015
        ],
        [
         "Audi",
         "Q7",
         88888,
         0,
         2015
        ],
        [
         "Porsche",
         "Cayenne",
         0,
         0,
         2016
        ],
        [
         "Toyota",
         "Land Cruiser 200",
         73900,
         1,
         2016
        ]
       ],
       "datasetInfos": [],
       "dbfsResultPath": null,
       "isJsonSchema": true,
       "metadata": {
        "isDbfsCommandResult": false
       },
       "overflow": false,
       "plotOptions": {
        "customPlotOptions": {},
        "displayType": "table",
        "pivotAggregation": null,
        "pivotColumns": null,
        "xColumns": null,
        "yColumns": null
       },
       "removedWidgets": [],
       "schema": [
        {
         "metadata": "{}",
         "name": "car",
         "type": "\"string\""
        },
        {
         "metadata": "{}",
         "name": "model",
         "type": "\"string\""
        },
        {
         "metadata": "{}",
         "name": "price",
         "type": "\"integer\""
        },
        {
         "metadata": "{}",
         "name": "mileage",
         "type": "\"integer\""
        },
        {
         "metadata": "{}",
         "name": "year",
         "type": "\"integer\""
        }
       ],
       "type": "table"
      }
     },
     "output_type": "display_data"
    }
   ],
   "source": [
    "car_filtered_data = car_stream_data.select(car_stream_data.car, car_stream_data.model, car_stream_data.price, car_stream_data.mileage, car_stream_data.year) \\\n",
    "    .where(car_stream_data.year > 2014)\n",
    "\n",
    "car_filtered_data.display()"
   ]
  },
  {
   "cell_type": "code",
   "execution_count": 0,
   "metadata": {
    "application/vnd.databricks.v1+cell": {
     "cellMetadata": {
      "byteLimit": 2048000,
      "rowLimit": 10000
     },
     "inputWidgets": {},
     "nuid": "7113b18b-9337-4580-8932-a7db098cdfa0",
     "showTitle": false,
     "title": ""
    }
   },
   "outputs": [
    {
     "output_type": "display_data",
     "data": {
      "text/html": [
       "<style scoped>\n",
       "  .ansiout {\n",
       "    display: block;\n",
       "    unicode-bidi: embed;\n",
       "    white-space: pre-wrap;\n",
       "    word-wrap: break-word;\n",
       "    word-break: break-all;\n",
       "    font-family: \"Source Code Pro\", \"Menlo\", monospace;;\n",
       "    font-size: 13px;\n",
       "    color: #555;\n",
       "    margin-left: 4px;\n",
       "    line-height: 19px;\n",
       "  }\n",
       "</style>\n",
       "<div class=\"ansiout\"></div>"
      ]
     },
     "metadata": {
      "application/vnd.databricks.v1+output": {
       "addedWidgets": {},
       "arguments": {},
       "data": "<div class=\"ansiout\"></div>",
       "datasetInfos": [],
       "metadata": {},
       "removedWidgets": [],
       "type": "html"
      }
     },
     "output_type": "display_data"
    }
   ],
   "source": [
    "query = car_filtered_data.writeStream \\\n",
    "                        .queryName(\"carDetailsAfter2014\") \\\n",
    "                            .outputMode(\"append\") \\\n",
    "                                .format(\"memory\") \\\n",
    "                                    .start()"
   ]
  },
  {
   "cell_type": "code",
   "execution_count": 0,
   "metadata": {
    "application/vnd.databricks.v1+cell": {
     "cellMetadata": {
      "byteLimit": 2048000,
      "implicitDf": true,
      "rowLimit": 10000
     },
     "inputWidgets": {},
     "nuid": "4b51af7f-f511-4efd-82da-2873a58ac600",
     "showTitle": false,
     "title": ""
    }
   },
   "outputs": [
    {
     "output_type": "display_data",
     "data": {
      "text/html": [
       "<style scoped>\n",
       "  .table-result-container {\n",
       "    max-height: 300px;\n",
       "    overflow: auto;\n",
       "  }\n",
       "  table, th, td {\n",
       "    border: 1px solid black;\n",
       "    border-collapse: collapse;\n",
       "  }\n",
       "  th, td {\n",
       "    padding: 5px;\n",
       "  }\n",
       "  th {\n",
       "    text-align: left;\n",
       "  }\n",
       "</style><div class='table-result-container'><table class='table-result'><thead style='background-color: white'><tr><th>car</th><th>model</th><th>price</th><th>mileage</th><th>year</th></tr></thead><tbody><tr><td>Nissan</td><td>Qashqai</td><td>null</td><td>0</td><td>2016</td></tr><tr><td>BMW</td><td>750</td><td>129222</td><td>2</td><td>2016</td></tr><tr><td>Mercedes-Benz</td><td>GLE-Class</td><td>99999</td><td>0</td><td>2016</td></tr><tr><td>Mercedes-Benz</td><td>GLE-Class</td><td>104999</td><td>1</td><td>2016</td></tr><tr><td>Toyota</td><td>Land Cruiser 200</td><td>195000</td><td>0</td><td>2016</td></tr><tr><td>Porsche</td><td>Cayenne</td><td>99999</td><td>1</td><td>2016</td></tr><tr><td>Mercedes-Benz</td><td>GLE-Class</td><td>0</td><td>0</td><td>2016</td></tr><tr><td>Toyota</td><td>Land Cruiser 200</td><td>0</td><td>0</td><td>2016</td></tr><tr><td>Toyota</td><td>Land Cruiser 200</td><td>102999</td><td>0</td><td>2016</td></tr><tr><td>Toyota</td><td>Land Cruiser 200</td><td>103999</td><td>0</td><td>2016</td></tr><tr><td>BMW</td><td>520</td><td>39333</td><td>6</td><td>2016</td></tr><tr><td>Mercedes-Benz</td><td>GLE-Class</td><td>99999</td><td>0</td><td>2016</td></tr><tr><td>Mercedes-Benz</td><td>GLE-Class</td><td>70999</td><td>0</td><td>2016</td></tr><tr><td>BMW</td><td>X5</td><td>63500</td><td>1</td><td>2016</td></tr><tr><td>BMW</td><td>X5</td><td>59900</td><td>30</td><td>2016</td></tr><tr><td>Nissan</td><td>Juke</td><td>null</td><td>0</td><td>2015</td></tr><tr><td>Mercedes-Benz</td><td>GLE-Class</td><td>0</td><td>0</td><td>2016</td></tr><tr><td>Kia</td><td>Sportage</td><td>null</td><td>0</td><td>2016</td></tr><tr><td>Land Rover</td><td>Range Rover</td><td>0</td><td>0</td><td>2016</td></tr><tr><td>Nissan</td><td>X-Trail</td><td>null</td><td>0</td><td>2016</td></tr><tr><td>BMW</td><td>X5</td><td>104999</td><td>2</td><td>2016</td></tr><tr><td>BMW</td><td>X5</td><td>66500</td><td>1</td><td>2016</td></tr><tr><td>BMW</td><td>X5</td><td>65099</td><td>0</td><td>2016</td></tr><tr><td>Mercedes-Benz</td><td>GLE-Class</td><td>69999</td><td>0</td><td>2016</td></tr><tr><td>BMW</td><td>X5</td><td>63000</td><td>0</td><td>2015</td></tr><tr><td>Mercedes-Benz</td><td>GLE-Class</td><td>105999</td><td>0</td><td>2016</td></tr><tr><td>Toyota</td><td>Land Cruiser 200</td><td>103999</td><td>0</td><td>2016</td></tr><tr><td>Toyota</td><td>Land Cruiser 200</td><td>null</td><td>0</td><td>2016</td></tr><tr><td>Audi</td><td>Q7</td><td>0</td><td>0</td><td>2015</td></tr><tr><td>Audi</td><td>Q7</td><td>88888</td><td>0</td><td>2015</td></tr></tbody></table></div>"
      ]
     },
     "metadata": {
      "application/vnd.databricks.v1+output": {
       "addedWidgets": {},
       "aggData": [],
       "aggError": "",
       "aggOverflow": false,
       "aggSchema": [],
       "aggSeriesLimitReached": false,
       "aggType": "",
       "arguments": {},
       "columnCustomDisplayInfos": {},
       "data": [
        [
         "Nissan",
         "Qashqai",
         null,
         0,
         2016
        ],
        [
         "BMW",
         "750",
         129222,
         2,
         2016
        ],
        [
         "Mercedes-Benz",
         "GLE-Class",
         99999,
         0,
         2016
        ],
        [
         "Mercedes-Benz",
         "GLE-Class",
         104999,
         1,
         2016
        ],
        [
         "Toyota",
         "Land Cruiser 200",
         195000,
         0,
         2016
        ],
        [
         "Porsche",
         "Cayenne",
         99999,
         1,
         2016
        ],
        [
         "Mercedes-Benz",
         "GLE-Class",
         0,
         0,
         2016
        ],
        [
         "Toyota",
         "Land Cruiser 200",
         0,
         0,
         2016
        ],
        [
         "Toyota",
         "Land Cruiser 200",
         102999,
         0,
         2016
        ],
        [
         "Toyota",
         "Land Cruiser 200",
         103999,
         0,
         2016
        ],
        [
         "BMW",
         "520",
         39333,
         6,
         2016
        ],
        [
         "Mercedes-Benz",
         "GLE-Class",
         99999,
         0,
         2016
        ],
        [
         "Mercedes-Benz",
         "GLE-Class",
         70999,
         0,
         2016
        ],
        [
         "BMW",
         "X5",
         63500,
         1,
         2016
        ],
        [
         "BMW",
         "X5",
         59900,
         30,
         2016
        ],
        [
         "Nissan",
         "Juke",
         null,
         0,
         2015
        ],
        [
         "Mercedes-Benz",
         "GLE-Class",
         0,
         0,
         2016
        ],
        [
         "Kia",
         "Sportage",
         null,
         0,
         2016
        ],
        [
         "Land Rover",
         "Range Rover",
         0,
         0,
         2016
        ],
        [
         "Nissan",
         "X-Trail",
         null,
         0,
         2016
        ],
        [
         "BMW",
         "X5",
         104999,
         2,
         2016
        ],
        [
         "BMW",
         "X5",
         66500,
         1,
         2016
        ],
        [
         "BMW",
         "X5",
         65099,
         0,
         2016
        ],
        [
         "Mercedes-Benz",
         "GLE-Class",
         69999,
         0,
         2016
        ],
        [
         "BMW",
         "X5",
         63000,
         0,
         2015
        ],
        [
         "Mercedes-Benz",
         "GLE-Class",
         105999,
         0,
         2016
        ],
        [
         "Toyota",
         "Land Cruiser 200",
         103999,
         0,
         2016
        ],
        [
         "Toyota",
         "Land Cruiser 200",
         null,
         0,
         2016
        ],
        [
         "Audi",
         "Q7",
         0,
         0,
         2015
        ],
        [
         "Audi",
         "Q7",
         88888,
         0,
         2015
        ]
       ],
       "datasetInfos": [],
       "dbfsResultPath": null,
       "isJsonSchema": true,
       "metadata": {},
       "overflow": false,
       "plotOptions": {
        "customPlotOptions": {},
        "displayType": "table",
        "pivotAggregation": null,
        "pivotColumns": null,
        "xColumns": null,
        "yColumns": null
       },
       "removedWidgets": [],
       "schema": [
        {
         "metadata": "{}",
         "name": "car",
         "type": "\"string\""
        },
        {
         "metadata": "{}",
         "name": "model",
         "type": "\"string\""
        },
        {
         "metadata": "{}",
         "name": "price",
         "type": "\"integer\""
        },
        {
         "metadata": "{}",
         "name": "mileage",
         "type": "\"integer\""
        },
        {
         "metadata": "{}",
         "name": "year",
         "type": "\"integer\""
        }
       ],
       "type": "table"
      }
     },
     "output_type": "display_data"
    }
   ],
   "source": [
    "%sql\n",
    "\n",
    "SELECT *\n",
    "FROM carDetailsAfter2014"
   ]
  },
  {
   "cell_type": "code",
   "execution_count": 0,
   "metadata": {
    "application/vnd.databricks.v1+cell": {
     "cellMetadata": {
      "byteLimit": 2048000,
      "rowLimit": 10000
     },
     "inputWidgets": {},
     "nuid": "8fc80dfe-eee8-4663-b396-07517929d671",
     "showTitle": false,
     "title": ""
    }
   },
   "outputs": [
    {
     "output_type": "display_data",
     "data": {
      "text/html": [
       "<style scoped>\n",
       "  .table-result-container {\n",
       "    max-height: 300px;\n",
       "    overflow: auto;\n",
       "  }\n",
       "  table, th, td {\n",
       "    border: 1px solid black;\n",
       "    border-collapse: collapse;\n",
       "  }\n",
       "  th, td {\n",
       "    padding: 5px;\n",
       "  }\n",
       "  th {\n",
       "    text-align: left;\n",
       "  }\n",
       "</style><div class='table-result-container'><table class='table-result'><thead style='background-color: white'><tr><th>body</th><th>avg(price)</th><th>avg(mileage)</th></tr></thead><tbody><tr><td>van</td><td>7977.666666666667</td><td>208.0</td></tr><tr><td>crossover</td><td>51273.3</td><td>50.741379310344826</td></tr><tr><td>other</td><td>25750.0</td><td>121.0</td></tr><tr><td>sedan</td><td>20666.083333333332</td><td>145.21621621621622</td></tr><tr><td>hatch</td><td>14791.0</td><td>26.2</td></tr><tr><td>vagon</td><td>8355.0</td><td>217.66666666666666</td></tr></tbody></table></div>"
      ]
     },
     "metadata": {
      "application/vnd.databricks.v1+output": {
       "addedWidgets": {},
       "aggData": [],
       "aggError": "",
       "aggOverflow": false,
       "aggSchema": [],
       "aggSeriesLimitReached": false,
       "aggType": "",
       "arguments": {},
       "columnCustomDisplayInfos": {},
       "data": [
        [
         "van",
         7977.666666666667,
         208.0
        ],
        [
         "crossover",
         51273.3,
         50.741379310344826
        ],
        [
         "other",
         25750.0,
         121.0
        ],
        [
         "sedan",
         20666.083333333332,
         145.21621621621622
        ],
        [
         "hatch",
         14791.0,
         26.2
        ],
        [
         "vagon",
         8355.0,
         217.66666666666666
        ]
       ],
       "datasetInfos": [],
       "dbfsResultPath": null,
       "isJsonSchema": true,
       "metadata": {
        "isDbfsCommandResult": false
       },
       "overflow": false,
       "plotOptions": {
        "customPlotOptions": {},
        "displayType": "table",
        "pivotAggregation": null,
        "pivotColumns": null,
        "xColumns": null,
        "yColumns": null
       },
       "removedWidgets": [],
       "schema": [
        {
         "metadata": "{}",
         "name": "body",
         "type": "\"string\""
        },
        {
         "metadata": "{}",
         "name": "avg(price)",
         "type": "\"double\""
        },
        {
         "metadata": "{}",
         "name": "avg(mileage)",
         "type": "\"double\""
        }
       ],
       "type": "table"
      }
     },
     "output_type": "display_data"
    }
   ],
   "source": [
    "car_grouped_data = car_stream_data.select(car_stream_data.body,car_stream_data.price,car_stream_data.mileage) \\\n",
    "                            .groupBy(car_stream_data.body) \\\n",
    "                                .agg({\"price\":\"avg\",\"mileage\":\"avg\"})\n",
    "\n",
    "car_grouped_data.display()"
   ]
  },
  {
   "cell_type": "code",
   "execution_count": 0,
   "metadata": {
    "application/vnd.databricks.v1+cell": {
     "cellMetadata": {
      "byteLimit": 2048000,
      "rowLimit": 10000
     },
     "inputWidgets": {},
     "nuid": "4858390f-4da7-4865-91a8-c205448b4b3b",
     "showTitle": false,
     "title": ""
    }
   },
   "outputs": [
    {
     "output_type": "display_data",
     "data": {
      "text/html": [
       "<style scoped>\n",
       "  .ansiout {\n",
       "    display: block;\n",
       "    unicode-bidi: embed;\n",
       "    white-space: pre-wrap;\n",
       "    word-wrap: break-word;\n",
       "    word-break: break-all;\n",
       "    font-family: \"Source Code Pro\", \"Menlo\", monospace;;\n",
       "    font-size: 13px;\n",
       "    color: #555;\n",
       "    margin-left: 4px;\n",
       "    line-height: 19px;\n",
       "  }\n",
       "</style>\n",
       "<div class=\"ansiout\"></div>"
      ]
     },
     "metadata": {
      "application/vnd.databricks.v1+output": {
       "addedWidgets": {},
       "arguments": {},
       "data": "<div class=\"ansiout\"></div>",
       "datasetInfos": [],
       "metadata": {},
       "removedWidgets": [],
       "type": "html"
      }
     },
     "output_type": "display_data"
    },
    {
     "output_type": "display_data",
     "data": {
      "text/html": [
       "<style scoped>\n",
       "  .ansiout {\n",
       "    display: block;\n",
       "    unicode-bidi: embed;\n",
       "    white-space: pre-wrap;\n",
       "    word-wrap: break-word;\n",
       "    word-break: break-all;\n",
       "    font-family: \"Source Code Pro\", \"Menlo\", monospace;;\n",
       "    font-size: 13px;\n",
       "    color: #555;\n",
       "    margin-left: 4px;\n",
       "    line-height: 19px;\n",
       "  }\n",
       "</style>\n",
       "<div class=\"ansiout\"><span class=\"ansi-red-fg\">---------------------------------------------------------------------------</span>\n",
       "<span class=\"ansi-red-fg\">AnalysisException</span>                         Traceback (most recent call last)\n",
       "<span class=\"ansi-green-fg\">&lt;command-1280708129294265&gt;</span> in <span class=\"ansi-cyan-fg\">&lt;module&gt;</span>\n",
       "<span class=\"ansi-green-fg\">----&gt; 1</span><span class=\"ansi-red-fg\"> </span>query <span class=\"ansi-blue-fg\">=</span> car_grouped_data<span class=\"ansi-blue-fg\">.</span>writeStream<span class=\"ansi-red-fg\"> </span><span class=\"ansi-red-fg\">\\</span>\n",
       "<span class=\"ansi-green-intense-fg ansi-bold\">      2</span>                         <span class=\"ansi-blue-fg\">.</span>queryName<span class=\"ansi-blue-fg\">(</span><span class=\"ansi-blue-fg\">&#34;avgPriceMileageBody&#34;</span><span class=\"ansi-blue-fg\">)</span><span class=\"ansi-red-fg\"> </span><span class=\"ansi-red-fg\">\\</span>\n",
       "<span class=\"ansi-green-intense-fg ansi-bold\">      3</span>                             <span class=\"ansi-blue-fg\">.</span>outputMode<span class=\"ansi-blue-fg\">(</span><span class=\"ansi-blue-fg\">&#34;append&#34;</span><span class=\"ansi-blue-fg\">)</span><span class=\"ansi-red-fg\"> </span><span class=\"ansi-red-fg\">\\</span>\n",
       "<span class=\"ansi-green-intense-fg ansi-bold\">      4</span>                                 <span class=\"ansi-blue-fg\">.</span>format<span class=\"ansi-blue-fg\">(</span><span class=\"ansi-blue-fg\">&#34;memory&#34;</span><span class=\"ansi-blue-fg\">)</span><span class=\"ansi-red-fg\"> </span><span class=\"ansi-red-fg\">\\</span>\n",
       "<span class=\"ansi-green-intense-fg ansi-bold\">      5</span>                                     <span class=\"ansi-blue-fg\">.</span>start<span class=\"ansi-blue-fg\">(</span><span class=\"ansi-blue-fg\">)</span>\n",
       "\n",
       "<span class=\"ansi-green-fg\">/databricks/spark/python/pyspark/sql/streaming.py</span> in <span class=\"ansi-cyan-fg\">start</span><span class=\"ansi-blue-fg\">(self, path, format, outputMode, partitionBy, queryName, **options)</span>\n",
       "<span class=\"ansi-green-intense-fg ansi-bold\">   1223</span>             self<span class=\"ansi-blue-fg\">.</span>queryName<span class=\"ansi-blue-fg\">(</span>queryName<span class=\"ansi-blue-fg\">)</span>\n",
       "<span class=\"ansi-green-intense-fg ansi-bold\">   1224</span>         <span class=\"ansi-green-fg\">if</span> path <span class=\"ansi-green-fg\">is</span> <span class=\"ansi-green-fg\">None</span><span class=\"ansi-blue-fg\">:</span>\n",
       "<span class=\"ansi-green-fg\">-&gt; 1225</span><span class=\"ansi-red-fg\">             </span><span class=\"ansi-green-fg\">return</span> self<span class=\"ansi-blue-fg\">.</span>_sq<span class=\"ansi-blue-fg\">(</span>self<span class=\"ansi-blue-fg\">.</span>_jwrite<span class=\"ansi-blue-fg\">.</span>start<span class=\"ansi-blue-fg\">(</span><span class=\"ansi-blue-fg\">)</span><span class=\"ansi-blue-fg\">)</span>\n",
       "<span class=\"ansi-green-intense-fg ansi-bold\">   1226</span>         <span class=\"ansi-green-fg\">else</span><span class=\"ansi-blue-fg\">:</span>\n",
       "<span class=\"ansi-green-intense-fg ansi-bold\">   1227</span>             <span class=\"ansi-green-fg\">return</span> self<span class=\"ansi-blue-fg\">.</span>_sq<span class=\"ansi-blue-fg\">(</span>self<span class=\"ansi-blue-fg\">.</span>_jwrite<span class=\"ansi-blue-fg\">.</span>start<span class=\"ansi-blue-fg\">(</span>path<span class=\"ansi-blue-fg\">)</span><span class=\"ansi-blue-fg\">)</span>\n",
       "\n",
       "<span class=\"ansi-green-fg\">/databricks/spark/python/lib/py4j-0.10.9.1-src.zip/py4j/java_gateway.py</span> in <span class=\"ansi-cyan-fg\">__call__</span><span class=\"ansi-blue-fg\">(self, *args)</span>\n",
       "<span class=\"ansi-green-intense-fg ansi-bold\">   1302</span> \n",
       "<span class=\"ansi-green-intense-fg ansi-bold\">   1303</span>         answer <span class=\"ansi-blue-fg\">=</span> self<span class=\"ansi-blue-fg\">.</span>gateway_client<span class=\"ansi-blue-fg\">.</span>send_command<span class=\"ansi-blue-fg\">(</span>command<span class=\"ansi-blue-fg\">)</span>\n",
       "<span class=\"ansi-green-fg\">-&gt; 1304</span><span class=\"ansi-red-fg\">         return_value = get_return_value(\n",
       "</span><span class=\"ansi-green-intense-fg ansi-bold\">   1305</span>             answer, self.gateway_client, self.target_id, self.name)\n",
       "<span class=\"ansi-green-intense-fg ansi-bold\">   1306</span> \n",
       "\n",
       "<span class=\"ansi-green-fg\">/databricks/spark/python/pyspark/sql/utils.py</span> in <span class=\"ansi-cyan-fg\">deco</span><span class=\"ansi-blue-fg\">(*a, **kw)</span>\n",
       "<span class=\"ansi-green-intense-fg ansi-bold\">    121</span>                 <span class=\"ansi-red-fg\"># Hide where the exception came from that shows a non-Pythonic</span>\n",
       "<span class=\"ansi-green-intense-fg ansi-bold\">    122</span>                 <span class=\"ansi-red-fg\"># JVM exception message.</span>\n",
       "<span class=\"ansi-green-fg\">--&gt; 123</span><span class=\"ansi-red-fg\">                 </span><span class=\"ansi-green-fg\">raise</span> converted <span class=\"ansi-green-fg\">from</span> <span class=\"ansi-green-fg\">None</span>\n",
       "<span class=\"ansi-green-intense-fg ansi-bold\">    124</span>             <span class=\"ansi-green-fg\">else</span><span class=\"ansi-blue-fg\">:</span>\n",
       "<span class=\"ansi-green-intense-fg ansi-bold\">    125</span>                 <span class=\"ansi-green-fg\">raise</span>\n",
       "\n",
       "<span class=\"ansi-red-fg\">AnalysisException</span>: Append output mode not supported when there are streaming aggregations on streaming DataFrames/DataSets without watermark;\n",
       "Aggregate [body#89], [body#89, avg(price#88) AS avg(price)#70745, avg(mileage#90) AS avg(mileage)#70746]\n",
       "+- Project [body#89, price#88, mileage#90]\n",
       "   +- StreamingRelation DataSource(org.apache.spark.sql.SparkSession@4b916e20,cloudFiles,List(),None,List(),None,Map(cloudFiles.format -&gt; csv, cloudFiles.schemaLocation -&gt; dbfs:/FileStore/datasets/car_source_stream, cloudFiles.schemaHints -&gt; price int,mileage int,engV float,year int, path -&gt; dbfs:/FileStore/datasets/car_source_stream),None), cloudFiles, [car#87, price#88, body#89, mileage#90, engV#91, engType#92, registration#93, year#94, model#95, drive#96, _rescued_data#97]\n",
       "</div>"
      ]
     },
     "metadata": {
      "application/vnd.databricks.v1+output": {
       "arguments": {},
       "data": "<div class=\"ansiout\"><span class=\"ansi-red-fg\">---------------------------------------------------------------------------</span>\n<span class=\"ansi-red-fg\">AnalysisException</span>                         Traceback (most recent call last)\n<span class=\"ansi-green-fg\">&lt;command-1280708129294265&gt;</span> in <span class=\"ansi-cyan-fg\">&lt;module&gt;</span>\n<span class=\"ansi-green-fg\">----&gt; 1</span><span class=\"ansi-red-fg\"> </span>query <span class=\"ansi-blue-fg\">=</span> car_grouped_data<span class=\"ansi-blue-fg\">.</span>writeStream<span class=\"ansi-red-fg\"> </span><span class=\"ansi-red-fg\">\\</span>\n<span class=\"ansi-green-intense-fg ansi-bold\">      2</span>                         <span class=\"ansi-blue-fg\">.</span>queryName<span class=\"ansi-blue-fg\">(</span><span class=\"ansi-blue-fg\">&#34;avgPriceMileageBody&#34;</span><span class=\"ansi-blue-fg\">)</span><span class=\"ansi-red-fg\"> </span><span class=\"ansi-red-fg\">\\</span>\n<span class=\"ansi-green-intense-fg ansi-bold\">      3</span>                             <span class=\"ansi-blue-fg\">.</span>outputMode<span class=\"ansi-blue-fg\">(</span><span class=\"ansi-blue-fg\">&#34;append&#34;</span><span class=\"ansi-blue-fg\">)</span><span class=\"ansi-red-fg\"> </span><span class=\"ansi-red-fg\">\\</span>\n<span class=\"ansi-green-intense-fg ansi-bold\">      4</span>                                 <span class=\"ansi-blue-fg\">.</span>format<span class=\"ansi-blue-fg\">(</span><span class=\"ansi-blue-fg\">&#34;memory&#34;</span><span class=\"ansi-blue-fg\">)</span><span class=\"ansi-red-fg\"> </span><span class=\"ansi-red-fg\">\\</span>\n<span class=\"ansi-green-intense-fg ansi-bold\">      5</span>                                     <span class=\"ansi-blue-fg\">.</span>start<span class=\"ansi-blue-fg\">(</span><span class=\"ansi-blue-fg\">)</span>\n\n<span class=\"ansi-green-fg\">/databricks/spark/python/pyspark/sql/streaming.py</span> in <span class=\"ansi-cyan-fg\">start</span><span class=\"ansi-blue-fg\">(self, path, format, outputMode, partitionBy, queryName, **options)</span>\n<span class=\"ansi-green-intense-fg ansi-bold\">   1223</span>             self<span class=\"ansi-blue-fg\">.</span>queryName<span class=\"ansi-blue-fg\">(</span>queryName<span class=\"ansi-blue-fg\">)</span>\n<span class=\"ansi-green-intense-fg ansi-bold\">   1224</span>         <span class=\"ansi-green-fg\">if</span> path <span class=\"ansi-green-fg\">is</span> <span class=\"ansi-green-fg\">None</span><span class=\"ansi-blue-fg\">:</span>\n<span class=\"ansi-green-fg\">-&gt; 1225</span><span class=\"ansi-red-fg\">             </span><span class=\"ansi-green-fg\">return</span> self<span class=\"ansi-blue-fg\">.</span>_sq<span class=\"ansi-blue-fg\">(</span>self<span class=\"ansi-blue-fg\">.</span>_jwrite<span class=\"ansi-blue-fg\">.</span>start<span class=\"ansi-blue-fg\">(</span><span class=\"ansi-blue-fg\">)</span><span class=\"ansi-blue-fg\">)</span>\n<span class=\"ansi-green-intense-fg ansi-bold\">   1226</span>         <span class=\"ansi-green-fg\">else</span><span class=\"ansi-blue-fg\">:</span>\n<span class=\"ansi-green-intense-fg ansi-bold\">   1227</span>             <span class=\"ansi-green-fg\">return</span> self<span class=\"ansi-blue-fg\">.</span>_sq<span class=\"ansi-blue-fg\">(</span>self<span class=\"ansi-blue-fg\">.</span>_jwrite<span class=\"ansi-blue-fg\">.</span>start<span class=\"ansi-blue-fg\">(</span>path<span class=\"ansi-blue-fg\">)</span><span class=\"ansi-blue-fg\">)</span>\n\n<span class=\"ansi-green-fg\">/databricks/spark/python/lib/py4j-0.10.9.1-src.zip/py4j/java_gateway.py</span> in <span class=\"ansi-cyan-fg\">__call__</span><span class=\"ansi-blue-fg\">(self, *args)</span>\n<span class=\"ansi-green-intense-fg ansi-bold\">   1302</span> \n<span class=\"ansi-green-intense-fg ansi-bold\">   1303</span>         answer <span class=\"ansi-blue-fg\">=</span> self<span class=\"ansi-blue-fg\">.</span>gateway_client<span class=\"ansi-blue-fg\">.</span>send_command<span class=\"ansi-blue-fg\">(</span>command<span class=\"ansi-blue-fg\">)</span>\n<span class=\"ansi-green-fg\">-&gt; 1304</span><span class=\"ansi-red-fg\">         return_value = get_return_value(\n</span><span class=\"ansi-green-intense-fg ansi-bold\">   1305</span>             answer, self.gateway_client, self.target_id, self.name)\n<span class=\"ansi-green-intense-fg ansi-bold\">   1306</span> \n\n<span class=\"ansi-green-fg\">/databricks/spark/python/pyspark/sql/utils.py</span> in <span class=\"ansi-cyan-fg\">deco</span><span class=\"ansi-blue-fg\">(*a, **kw)</span>\n<span class=\"ansi-green-intense-fg ansi-bold\">    121</span>                 <span class=\"ansi-red-fg\"># Hide where the exception came from that shows a non-Pythonic</span>\n<span class=\"ansi-green-intense-fg ansi-bold\">    122</span>                 <span class=\"ansi-red-fg\"># JVM exception message.</span>\n<span class=\"ansi-green-fg\">--&gt; 123</span><span class=\"ansi-red-fg\">                 </span><span class=\"ansi-green-fg\">raise</span> converted <span class=\"ansi-green-fg\">from</span> <span class=\"ansi-green-fg\">None</span>\n<span class=\"ansi-green-intense-fg ansi-bold\">    124</span>             <span class=\"ansi-green-fg\">else</span><span class=\"ansi-blue-fg\">:</span>\n<span class=\"ansi-green-intense-fg ansi-bold\">    125</span>                 <span class=\"ansi-green-fg\">raise</span>\n\n<span class=\"ansi-red-fg\">AnalysisException</span>: Append output mode not supported when there are streaming aggregations on streaming DataFrames/DataSets without watermark;\nAggregate [body#89], [body#89, avg(price#88) AS avg(price)#70745, avg(mileage#90) AS avg(mileage)#70746]\n+- Project [body#89, price#88, mileage#90]\n   +- StreamingRelation DataSource(org.apache.spark.sql.SparkSession@4b916e20,cloudFiles,List(),None,List(),None,Map(cloudFiles.format -&gt; csv, cloudFiles.schemaLocation -&gt; dbfs:/FileStore/datasets/car_source_stream, cloudFiles.schemaHints -&gt; price int,mileage int,engV float,year int, path -&gt; dbfs:/FileStore/datasets/car_source_stream),None), cloudFiles, [car#87, price#88, body#89, mileage#90, engV#91, engType#92, registration#93, year#94, model#95, drive#96, _rescued_data#97]\n</div>",
       "errorSummary": "<span class=\"ansi-red-fg\">AnalysisException</span>: Append output mode not supported when there are streaming aggregations on streaming DataFrames/DataSets without watermark;",
       "errorTraceType": "html",
       "metadata": {},
       "type": "ipynbError"
      }
     },
     "output_type": "display_data"
    }
   ],
   "source": [
    "query = car_grouped_data.writeStream \\\n",
    "                        .queryName(\"avgPriceMileageBody\") \\\n",
    "                            .outputMode(\"append\") \\\n",
    "                                .format(\"memory\") \\\n",
    "                                    .start()"
   ]
  },
  {
   "cell_type": "markdown",
   "metadata": {
    "application/vnd.databricks.v1+cell": {
     "cellMetadata": {},
     "inputWidgets": {},
     "nuid": "422d1c8f-7cd4-429d-ab8c-a56852e52cc5",
     "showTitle": false,
     "title": ""
    }
   },
   "source": [
    "So append mode to write streams will not work when we are performing aggregations. So trying complete mode or update mode"
   ]
  },
  {
   "cell_type": "code",
   "execution_count": 0,
   "metadata": {
    "application/vnd.databricks.v1+cell": {
     "cellMetadata": {
      "byteLimit": 2048000,
      "rowLimit": 10000
     },
     "inputWidgets": {},
     "nuid": "014a777e-650d-48a1-8db0-9badf547370b",
     "showTitle": false,
     "title": ""
    }
   },
   "outputs": [
    {
     "output_type": "display_data",
     "data": {
      "text/html": [
       "<style scoped>\n",
       "  .ansiout {\n",
       "    display: block;\n",
       "    unicode-bidi: embed;\n",
       "    white-space: pre-wrap;\n",
       "    word-wrap: break-word;\n",
       "    word-break: break-all;\n",
       "    font-family: \"Source Code Pro\", \"Menlo\", monospace;;\n",
       "    font-size: 13px;\n",
       "    color: #555;\n",
       "    margin-left: 4px;\n",
       "    line-height: 19px;\n",
       "  }\n",
       "</style>\n",
       "<div class=\"ansiout\"></div>"
      ]
     },
     "metadata": {
      "application/vnd.databricks.v1+output": {
       "addedWidgets": {},
       "arguments": {},
       "data": "<div class=\"ansiout\"></div>",
       "datasetInfos": [],
       "metadata": {},
       "removedWidgets": [],
       "type": "html"
      }
     },
     "output_type": "display_data"
    }
   ],
   "source": [
    "query = car_grouped_data.writeStream \\\n",
    "                        .queryName(\"avgPriceMileageBody\") \\\n",
    "                            .outputMode(\"complete\") \\\n",
    "                                .format(\"memory\") \\\n",
    "                                    .start()"
   ]
  },
  {
   "cell_type": "code",
   "execution_count": 0,
   "metadata": {
    "application/vnd.databricks.v1+cell": {
     "cellMetadata": {
      "byteLimit": 2048000,
      "implicitDf": true,
      "rowLimit": 10000
     },
     "inputWidgets": {},
     "nuid": "b7fc10b3-5afe-48c2-89c1-e7ce6ff51cb4",
     "showTitle": false,
     "title": ""
    }
   },
   "outputs": [
    {
     "output_type": "display_data",
     "data": {
      "text/html": [
       "<style scoped>\n",
       "  .table-result-container {\n",
       "    max-height: 300px;\n",
       "    overflow: auto;\n",
       "  }\n",
       "  table, th, td {\n",
       "    border: 1px solid black;\n",
       "    border-collapse: collapse;\n",
       "  }\n",
       "  th, td {\n",
       "    padding: 5px;\n",
       "  }\n",
       "  th {\n",
       "    text-align: left;\n",
       "  }\n",
       "</style><div class='table-result-container'><table class='table-result'><thead style='background-color: white'><tr><th>body</th><th>avg(price)</th><th>avg(mileage)</th></tr></thead><tbody><tr><td>van</td><td>8974.875</td><td>213.11111111111111</td></tr><tr><td>crossover</td><td>51273.3</td><td>50.741379310344826</td></tr><tr><td>other</td><td>25750.0</td><td>121.0</td></tr><tr><td>sedan</td><td>20413.685714285715</td><td>148.22222222222223</td></tr><tr><td>hatch</td><td>14791.0</td><td>26.2</td></tr><tr><td>vagon</td><td>8355.0</td><td>216.0</td></tr></tbody></table></div>"
      ]
     },
     "metadata": {
      "application/vnd.databricks.v1+output": {
       "addedWidgets": {},
       "aggData": [],
       "aggError": "",
       "aggOverflow": false,
       "aggSchema": [],
       "aggSeriesLimitReached": false,
       "aggType": "",
       "arguments": {},
       "columnCustomDisplayInfos": {},
       "data": [
        [
         "van",
         8974.875,
         213.11111111111111
        ],
        [
         "crossover",
         51273.3,
         50.741379310344826
        ],
        [
         "other",
         25750.0,
         121.0
        ],
        [
         "sedan",
         20413.685714285715,
         148.22222222222223
        ],
        [
         "hatch",
         14791.0,
         26.2
        ],
        [
         "vagon",
         8355.0,
         216.0
        ]
       ],
       "datasetInfos": [],
       "dbfsResultPath": null,
       "isJsonSchema": true,
       "metadata": {},
       "overflow": false,
       "plotOptions": {
        "customPlotOptions": {},
        "displayType": "table",
        "pivotAggregation": null,
        "pivotColumns": null,
        "xColumns": null,
        "yColumns": null
       },
       "removedWidgets": [],
       "schema": [
        {
         "metadata": "{}",
         "name": "body",
         "type": "\"string\""
        },
        {
         "metadata": "{}",
         "name": "avg(price)",
         "type": "\"double\""
        },
        {
         "metadata": "{}",
         "name": "avg(mileage)",
         "type": "\"double\""
        }
       ],
       "type": "table"
      }
     },
     "output_type": "display_data"
    }
   ],
   "source": [
    "%sql\n",
    "\n",
    "SELECT *\n",
    "FROM avgPriceMileageBody"
   ]
  },
  {
   "cell_type": "code",
   "execution_count": 0,
   "metadata": {
    "application/vnd.databricks.v1+cell": {
     "cellMetadata": {
      "byteLimit": 2048000,
      "rowLimit": 10000
     },
     "inputWidgets": {},
     "nuid": "2575f6f7-bc2a-4e4d-8fe2-ad93bbd2d493",
     "showTitle": false,
     "title": ""
    }
   },
   "outputs": [
    {
     "output_type": "display_data",
     "data": {
      "text/html": [
       "<style scoped>\n",
       "  .table-result-container {\n",
       "    max-height: 300px;\n",
       "    overflow: auto;\n",
       "  }\n",
       "  table, th, td {\n",
       "    border: 1px solid black;\n",
       "    border-collapse: collapse;\n",
       "  }\n",
       "  th, td {\n",
       "    padding: 5px;\n",
       "  }\n",
       "  th {\n",
       "    text-align: left;\n",
       "  }\n",
       "</style><div class='table-result-container'><table class='table-result'><thead style='background-color: white'><tr><th>car</th><th>count(car)</th></tr></thead><tbody><tr><td>Volkswagen</td><td>12</td></tr><tr><td>Jaguar</td><td>1</td></tr><tr><td>Mitsubishi</td><td>3</td></tr><tr><td>Kia</td><td>3</td></tr><tr><td>Hyundai</td><td>3</td></tr><tr><td>Honda</td><td>4</td></tr><tr><td>Audi</td><td>10</td></tr><tr><td>Land Rover</td><td>1</td></tr><tr><td>Mercedes-Benz</td><td>30</td></tr><tr><td>Renault</td><td>2</td></tr><tr><td>Chrysler</td><td>1</td></tr><tr><td>BMW</td><td>17</td></tr><tr><td>Opel</td><td>1</td></tr><tr><td>Porsche</td><td>9</td></tr><tr><td>Toyota</td><td>13</td></tr><tr><td>Nissan</td><td>10</td></tr><tr><td>Ford</td><td>1</td></tr></tbody></table></div>"
      ]
     },
     "metadata": {
      "application/vnd.databricks.v1+output": {
       "addedWidgets": {},
       "aggData": [],
       "aggError": "",
       "aggOverflow": false,
       "aggSchema": [],
       "aggSeriesLimitReached": false,
       "aggType": "",
       "arguments": {},
       "columnCustomDisplayInfos": {},
       "data": [
        [
         "Volkswagen",
         12
        ],
        [
         "Jaguar",
         1
        ],
        [
         "Mitsubishi",
         3
        ],
        [
         "Kia",
         3
        ],
        [
         "Hyundai",
         3
        ],
        [
         "Honda",
         4
        ],
        [
         "Audi",
         10
        ],
        [
         "Land Rover",
         1
        ],
        [
         "Mercedes-Benz",
         30
        ],
        [
         "Renault",
         2
        ],
        [
         "Chrysler",
         1
        ],
        [
         "BMW",
         17
        ],
        [
         "Opel",
         1
        ],
        [
         "Porsche",
         9
        ],
        [
         "Toyota",
         13
        ],
        [
         "Nissan",
         10
        ],
        [
         "Ford",
         1
        ]
       ],
       "datasetInfos": [],
       "dbfsResultPath": null,
       "isJsonSchema": true,
       "metadata": {
        "isDbfsCommandResult": false
       },
       "overflow": false,
       "plotOptions": {
        "customPlotOptions": {},
        "displayType": "table",
        "pivotAggregation": null,
        "pivotColumns": null,
        "xColumns": null,
        "yColumns": null
       },
       "removedWidgets": [],
       "schema": [
        {
         "metadata": "{}",
         "name": "car",
         "type": "\"string\""
        },
        {
         "metadata": "{}",
         "name": "count(car)",
         "type": "\"long\""
        }
       ],
       "type": "table"
      }
     },
     "output_type": "display_data"
    }
   ],
   "source": [
    "car_grouped_data1 = car_stream_data.select(car_stream_data.car) \\\n",
    "                            .groupBy(car_stream_data.car) \\\n",
    "                                .agg({\"car\":\"count\"})\n",
    "\n",
    "car_grouped_data1.display()"
   ]
  },
  {
   "cell_type": "code",
   "execution_count": 0,
   "metadata": {
    "application/vnd.databricks.v1+cell": {
     "cellMetadata": {
      "byteLimit": 2048000,
      "rowLimit": 10000
     },
     "inputWidgets": {},
     "nuid": "7cf0ab66-1252-4856-bfeb-bc0239794a88",
     "showTitle": false,
     "title": ""
    }
   },
   "outputs": [
    {
     "output_type": "display_data",
     "data": {
      "text/html": [
       "<style scoped>\n",
       "  .ansiout {\n",
       "    display: block;\n",
       "    unicode-bidi: embed;\n",
       "    white-space: pre-wrap;\n",
       "    word-wrap: break-word;\n",
       "    word-break: break-all;\n",
       "    font-family: \"Source Code Pro\", \"Menlo\", monospace;;\n",
       "    font-size: 13px;\n",
       "    color: #555;\n",
       "    margin-left: 4px;\n",
       "    line-height: 19px;\n",
       "  }\n",
       "</style>\n",
       "<div class=\"ansiout\"></div>"
      ]
     },
     "metadata": {
      "application/vnd.databricks.v1+output": {
       "addedWidgets": {},
       "arguments": {},
       "data": "<div class=\"ansiout\"></div>",
       "datasetInfos": [],
       "metadata": {},
       "removedWidgets": [],
       "type": "html"
      }
     },
     "output_type": "display_data"
    }
   ],
   "source": [
    "query = car_grouped_data1.writeStream \\\n",
    "                        .queryName(\"countByCars\") \\\n",
    "                            .outputMode(\"update\") \\\n",
    "                                .format(\"memory\") \\\n",
    "                                    .start()"
   ]
  },
  {
   "cell_type": "code",
   "execution_count": 0,
   "metadata": {
    "application/vnd.databricks.v1+cell": {
     "cellMetadata": {
      "byteLimit": 2048000,
      "implicitDf": true,
      "rowLimit": 10000
     },
     "inputWidgets": {},
     "nuid": "69fd29fe-a2e9-4279-a262-2ad352dc329b",
     "showTitle": false,
     "title": ""
    }
   },
   "outputs": [
    {
     "output_type": "display_data",
     "data": {
      "text/html": [
       "<style scoped>\n",
       "  .table-result-container {\n",
       "    max-height: 300px;\n",
       "    overflow: auto;\n",
       "  }\n",
       "  table, th, td {\n",
       "    border: 1px solid black;\n",
       "    border-collapse: collapse;\n",
       "  }\n",
       "  th, td {\n",
       "    padding: 5px;\n",
       "  }\n",
       "  th {\n",
       "    text-align: left;\n",
       "  }\n",
       "</style><div class='table-result-container'><table class='table-result'><thead style='background-color: white'><tr><th>car</th><th>count(car)</th></tr></thead><tbody><tr><td>Volkswagen</td><td>11</td></tr><tr><td>Jaguar</td><td>1</td></tr><tr><td>Mitsubishi</td><td>3</td></tr><tr><td>Kia</td><td>3</td></tr><tr><td>Hyundai</td><td>3</td></tr><tr><td>Honda</td><td>4</td></tr><tr><td>Audi</td><td>10</td></tr><tr><td>Land Rover</td><td>1</td></tr><tr><td>Mercedes-Benz</td><td>29</td></tr><tr><td>Renault</td><td>2</td></tr><tr><td>Chrysler</td><td>1</td></tr><tr><td>BMW</td><td>17</td></tr><tr><td>Porsche</td><td>9</td></tr><tr><td>Toyota</td><td>13</td></tr><tr><td>Nissan</td><td>10</td></tr><tr><td>Ford</td><td>1</td></tr><tr><td>Volkswagen</td><td>12</td></tr><tr><td>Mercedes-Benz</td><td>30</td></tr><tr><td>Opel</td><td>1</td></tr></tbody></table></div>"
      ]
     },
     "metadata": {
      "application/vnd.databricks.v1+output": {
       "addedWidgets": {},
       "aggData": [],
       "aggError": "",
       "aggOverflow": false,
       "aggSchema": [],
       "aggSeriesLimitReached": false,
       "aggType": "",
       "arguments": {},
       "columnCustomDisplayInfos": {},
       "data": [
        [
         "Volkswagen",
         11
        ],
        [
         "Jaguar",
         1
        ],
        [
         "Mitsubishi",
         3
        ],
        [
         "Kia",
         3
        ],
        [
         "Hyundai",
         3
        ],
        [
         "Honda",
         4
        ],
        [
         "Audi",
         10
        ],
        [
         "Land Rover",
         1
        ],
        [
         "Mercedes-Benz",
         29
        ],
        [
         "Renault",
         2
        ],
        [
         "Chrysler",
         1
        ],
        [
         "BMW",
         17
        ],
        [
         "Porsche",
         9
        ],
        [
         "Toyota",
         13
        ],
        [
         "Nissan",
         10
        ],
        [
         "Ford",
         1
        ],
        [
         "Volkswagen",
         12
        ],
        [
         "Mercedes-Benz",
         30
        ],
        [
         "Opel",
         1
        ]
       ],
       "datasetInfos": [],
       "dbfsResultPath": null,
       "isJsonSchema": true,
       "metadata": {},
       "overflow": false,
       "plotOptions": {
        "customPlotOptions": {},
        "displayType": "table",
        "pivotAggregation": null,
        "pivotColumns": null,
        "xColumns": null,
        "yColumns": null
       },
       "removedWidgets": [],
       "schema": [
        {
         "metadata": "{}",
         "name": "car",
         "type": "\"string\""
        },
        {
         "metadata": "{}",
         "name": "count(car)",
         "type": "\"long\""
        }
       ],
       "type": "table"
      }
     },
     "output_type": "display_data"
    }
   ],
   "source": [
    "%sql\n",
    "\n",
    "SELECt *\n",
    "FROM countByCars"
   ]
  },
  {
   "cell_type": "code",
   "execution_count": 0,
   "metadata": {
    "application/vnd.databricks.v1+cell": {
     "cellMetadata": {},
     "inputWidgets": {},
     "nuid": "9873d4b6-16eb-4439-be4a-4b0717eb63a5",
     "showTitle": false,
     "title": ""
    }
   },
   "outputs": [],
   "source": []
  }
 ],
 "metadata": {
  "application/vnd.databricks.v1+notebook": {
   "dashboards": [],
   "language": "python",
   "notebookMetadata": {
    "mostRecentlyExecutedCommandWithImplicitDF": {
     "commandId": 1280708129294271,
     "dataframes": [
      "_sqldf"
     ]
    },
    "pythonIndentUnit": 4
   },
   "notebookName": "OutputModes",
   "widgets": {}
  }
 },
 "nbformat": 4,
 "nbformat_minor": 0
}
