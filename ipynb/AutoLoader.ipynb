{
 "cells": [
  {
   "cell_type": "code",
   "execution_count": 0,
   "metadata": {
    "application/vnd.databricks.v1+cell": {
     "cellMetadata": {
      "byteLimit": 2048000,
      "rowLimit": 10000
     },
     "inputWidgets": {},
     "nuid": "61b0a7d6-5084-4271-a1b1-2193adc30a51",
     "showTitle": false,
     "title": ""
    }
   },
   "outputs": [
    {
     "output_type": "display_data",
     "data": {
      "text/html": [
       "<style scoped>\n",
       "  .ansiout {\n",
       "    display: block;\n",
       "    unicode-bidi: embed;\n",
       "    white-space: pre-wrap;\n",
       "    word-wrap: break-word;\n",
       "    word-break: break-all;\n",
       "    font-family: \"Source Code Pro\", \"Menlo\", monospace;;\n",
       "    font-size: 13px;\n",
       "    color: #555;\n",
       "    margin-left: 4px;\n",
       "    line-height: 19px;\n",
       "  }\n",
       "</style>\n",
       "<div class=\"ansiout\"></div>"
      ]
     },
     "metadata": {
      "application/vnd.databricks.v1+output": {
       "addedWidgets": {},
       "arguments": {},
       "data": "<div class=\"ansiout\"></div>",
       "datasetInfos": [],
       "metadata": {},
       "removedWidgets": [],
       "type": "html"
      }
     },
     "output_type": "display_data"
    }
   ],
   "source": [
    "laptop_stream_data = spark.readStream.format(\"cloudFiles\") \\\n",
    "    .option(\"cloudFiles.format\",\"csv\") \\\n",
    "        .option(\"cloudFiles.schemaLocation\",\"dbfs:/FileStore/datasets/laptop_source_stream\") \\\n",
    "            .load(\"dbfs:/FileStore/datasets/laptop_source_stream\")"
   ]
  },
  {
   "cell_type": "code",
   "execution_count": 0,
   "metadata": {
    "application/vnd.databricks.v1+cell": {
     "cellMetadata": {
      "byteLimit": 2048000,
      "rowLimit": 10000
     },
     "inputWidgets": {},
     "nuid": "b00b2561-c27f-4af6-98b3-1a7477247bbb",
     "showTitle": false,
     "title": ""
    }
   },
   "outputs": [
    {
     "output_type": "display_data",
     "data": {
      "text/html": [
       "<style scoped>\n",
       "  .table-result-container {\n",
       "    max-height: 300px;\n",
       "    overflow: auto;\n",
       "  }\n",
       "  table, th, td {\n",
       "    border: 1px solid black;\n",
       "    border-collapse: collapse;\n",
       "  }\n",
       "  th, td {\n",
       "    padding: 5px;\n",
       "  }\n",
       "  th {\n",
       "    text-align: left;\n",
       "  }\n",
       "</style><div class='table-result-container'><table class='table-result'><thead style='background-color: white'><tr><th>Id</th><th>Company</th><th>Product</th><th>TypeName</th><th>Price_euros</th><th>_rescued_data</th></tr></thead><tbody><tr><td>21</td><td>Asus</td><td>Vivobook E200HA</td><td>Netbook</td><td>191.9</td><td>null</td></tr><tr><td>22</td><td>Lenovo</td><td>Legion Y520-15IKBN</td><td>Gaming</td><td>999</td><td>null</td></tr><tr><td>23</td><td>HP</td><td>255 G6</td><td>Notebook</td><td>258</td><td>null</td></tr><tr><td>24</td><td>Dell</td><td>Inspiron 5379</td><td>2 in 1 Convertible</td><td>819</td><td>null</td></tr><tr><td>25</td><td>HP</td><td>15-BS101nv (i7-8550U/8GB/256GB/FHD/W10)</td><td>Ultrabook</td><td>659</td><td>null</td></tr><tr><td>26</td><td>Dell</td><td>Inspiron 3567</td><td>Notebook</td><td>418.64</td><td>null</td></tr><tr><td>27</td><td>Apple</td><td>MacBook Air</td><td>Ultrabook</td><td>1099</td><td>null</td></tr><tr><td>28</td><td>Dell</td><td>Inspiron 5570</td><td>Notebook</td><td>800</td><td>null</td></tr><tr><td>29</td><td>Dell</td><td>Latitude 5590</td><td>Ultrabook</td><td>1298</td><td>null</td></tr><tr><td>30</td><td>HP</td><td>ProBook 470</td><td>Notebook</td><td>896</td><td>null</td></tr><tr><td>31</td><td>Chuwi</td><td>LapBook 15.6\"\"</td><td>Notebook</td><td>244.99</td><td>null</td></tr><tr><td>32</td><td>Asus</td><td>E402WA-GA010T (E2-6110/2GB/32GB/W10)</td><td>Notebook</td><td>199</td><td>null</td></tr><tr><td>33</td><td>HP</td><td>17-ak001nv (A6-9220/4GB/500GB/Radeon</td><td>Notebook</td><td>439</td><td>null</td></tr><tr><td>34</td><td>Dell</td><td>XPS 13</td><td>Ultrabook</td><td>1869</td><td>null</td></tr><tr><td>35</td><td>Apple</td><td>MacBook Air</td><td>Ultrabook</td><td>998</td><td>null</td></tr><tr><td>36</td><td>Lenovo</td><td>IdeaPad 120S-14IAP</td><td>Notebook</td><td>249</td><td>null</td></tr><tr><td>37</td><td>Acer</td><td>Aspire 3</td><td>Notebook</td><td>367</td><td>null</td></tr><tr><td>38</td><td>Dell</td><td>Inspiron 5770</td><td>Notebook</td><td>979</td><td>null</td></tr><tr><td>39</td><td>HP</td><td>250 G6</td><td>Notebook</td><td>488.69</td><td>null</td></tr><tr><td>40</td><td>HP</td><td>ProBook 450</td><td>Notebook</td><td>879</td><td>null</td></tr><tr><td>1</td><td>Apple</td><td>MacBook Pro</td><td>Ultrabook</td><td>1339.69</td><td>null</td></tr><tr><td>2</td><td>Apple</td><td>Macbook Air</td><td>Ultrabook</td><td>898.94</td><td>null</td></tr><tr><td>3</td><td>HP</td><td>250 G6</td><td>Notebook</td><td>575</td><td>null</td></tr><tr><td>4</td><td>Apple</td><td>MacBook Pro</td><td>Ultrabook</td><td>2537.45</td><td>null</td></tr><tr><td>5</td><td>Apple</td><td>MacBook Pro</td><td>Ultrabook</td><td>1803.6</td><td>null</td></tr><tr><td>6</td><td>Acer</td><td>Aspire 3</td><td>Notebook</td><td>400</td><td>null</td></tr><tr><td>7</td><td>Apple</td><td>MacBook Pro</td><td>Ultrabook</td><td>2139.97</td><td>null</td></tr><tr><td>8</td><td>Apple</td><td>Macbook Air</td><td>Ultrabook</td><td>1158.7</td><td>null</td></tr><tr><td>9</td><td>Asus</td><td>ZenBook UX430UN</td><td>Ultrabook</td><td>1495</td><td>null</td></tr><tr><td>10</td><td>Acer</td><td>Swift 3</td><td>Ultrabook</td><td>770</td><td>null</td></tr><tr><td>11</td><td>HP</td><td>250 G6</td><td>Notebook</td><td>393.9</td><td>null</td></tr><tr><td>12</td><td>HP</td><td>250 G6</td><td>Notebook</td><td>344.99</td><td>null</td></tr><tr><td>13</td><td>Apple</td><td>MacBook Pro</td><td>Ultrabook</td><td>2439.97</td><td>null</td></tr><tr><td>14</td><td>Dell</td><td>Inspiron 3567</td><td>Notebook</td><td>498.9</td><td>null</td></tr><tr><td>15</td><td>Apple</td><td>MacBook 12\"\"</td><td>Ultrabook</td><td>1262.4</td><td>null</td></tr><tr><td>16</td><td>Apple</td><td>MacBook Pro</td><td>Ultrabook</td><td>1518.55</td><td>null</td></tr><tr><td>17</td><td>Dell</td><td>Inspiron 3567</td><td>Notebook</td><td>745</td><td>null</td></tr><tr><td>18</td><td>Apple</td><td>MacBook Pro</td><td>Ultrabook</td><td>2858</td><td>null</td></tr><tr><td>19</td><td>Lenovo</td><td>IdeaPad 320-15IKB</td><td>Notebook</td><td>499</td><td>null</td></tr><tr><td>20</td><td>Dell</td><td>XPS 13</td><td>Ultrabook</td><td>979</td><td>null</td></tr><tr><td>41</td><td>Asus</td><td>X540UA-DM186 (i3-6006U/4GB/1TB/FHD/Linux)</td><td>Notebook</td><td>389</td><td>{\"TYPENAME\":\"Notebook\",\"_file_path\":\"dbfs:/FileStore/datasets/laptop_source_stream/laptops_03_extracol.csv\"}</td></tr><tr><td>42</td><td>Dell</td><td>Inspiron 7577</td><td>Gaming</td><td>1499</td><td>{\"TYPENAME\":\"Gaming\",\"_file_path\":\"dbfs:/FileStore/datasets/laptop_source_stream/laptops_03_extracol.csv\"}</td></tr><tr><td>43</td><td>Asus</td><td>X542UQ-GO005 (i5-7200U/8GB/1TB/GeForce</td><td>Notebook</td><td>522.99</td><td>{\"TYPENAME\":\"Notebook\",\"_file_path\":\"dbfs:/FileStore/datasets/laptop_source_stream/laptops_03_extracol.csv\"}</td></tr><tr><td>44</td><td>Acer</td><td>Aspire A515-51G</td><td>Notebook</td><td>682</td><td>{\"TYPENAME\":\"Notebook\",\"_file_path\":\"dbfs:/FileStore/datasets/laptop_source_stream/laptops_03_extracol.csv\"}</td></tr><tr><td>45</td><td>Dell</td><td>Inspiron 7773</td><td>2 in 1 Convertible</td><td>999</td><td>{\"TYPENAME\":\"2 in 1 Convertible\",\"_file_path\":\"dbfs:/FileStore/datasets/laptop_source_stream/laptops_03_extracol.csv\"}</td></tr><tr><td>46</td><td>Apple</td><td>MacBook Pro</td><td>Ultrabook</td><td>1419</td><td>{\"TYPENAME\":\"Ultrabook\",\"_file_path\":\"dbfs:/FileStore/datasets/laptop_source_stream/laptops_03_extracol.csv\"}</td></tr><tr><td>47</td><td>Lenovo</td><td>IdeaPad 320-15ISK</td><td>Notebook</td><td>369</td><td>{\"TYPENAME\":\"Notebook\",\"_file_path\":\"dbfs:/FileStore/datasets/laptop_source_stream/laptops_03_extracol.csv\"}</td></tr><tr><td>48</td><td>Asus</td><td>Rog Strix</td><td>Gaming</td><td>1299</td><td>{\"TYPENAME\":\"Gaming\",\"_file_path\":\"dbfs:/FileStore/datasets/laptop_source_stream/laptops_03_extracol.csv\"}</td></tr><tr><td>49</td><td>Dell</td><td>Inspiron 3567</td><td>Notebook</td><td>639</td><td>{\"TYPENAME\":\"Notebook\",\"_file_path\":\"dbfs:/FileStore/datasets/laptop_source_stream/laptops_03_extracol.csv\"}</td></tr><tr><td>50</td><td>Asus</td><td>X751NV-TY001T (N4200/4GB/1TB/GeForce</td><td>Notebook</td><td>466</td><td>{\"TYPENAME\":\"Notebook\",\"_file_path\":\"dbfs:/FileStore/datasets/laptop_source_stream/laptops_03_extracol.csv\"}</td></tr><tr><td>51</td><td>Lenovo</td><td>Yoga Book</td><td>2 in 1 Convertible</td><td>319</td><td>{\"TYPENAME\":\"2 in 1 Convertible\",\"_file_path\":\"dbfs:/FileStore/datasets/laptop_source_stream/laptops_03_extracol.csv\"}</td></tr><tr><td>52</td><td>Acer</td><td>Aspire A515-51G</td><td>Notebook</td><td>841</td><td>{\"TYPENAME\":\"Notebook\",\"_file_path\":\"dbfs:/FileStore/datasets/laptop_source_stream/laptops_03_extracol.csv\"}</td></tr><tr><td>53</td><td>HP</td><td>255 G6</td><td>Notebook</td><td>398.49</td><td>{\"TYPENAME\":\"Notebook\",\"_file_path\":\"dbfs:/FileStore/datasets/laptop_source_stream/laptops_03_extracol.csv\"}</td></tr><tr><td>54</td><td>HP</td><td>ProBook 430</td><td>Notebook</td><td>1103</td><td>{\"TYPENAME\":\"Notebook\",\"_file_path\":\"dbfs:/FileStore/datasets/laptop_source_stream/laptops_03_extracol.csv\"}</td></tr><tr><td>55</td><td>Acer</td><td>Aspire 3</td><td>Notebook</td><td>384</td><td>{\"TYPENAME\":\"Notebook\",\"_file_path\":\"dbfs:/FileStore/datasets/laptop_source_stream/laptops_03_extracol.csv\"}</td></tr><tr><td>56</td><td>Dell</td><td>Inspiron 3576</td><td>Notebook</td><td>767.8</td><td>{\"TYPENAME\":\"Notebook\",\"_file_path\":\"dbfs:/FileStore/datasets/laptop_source_stream/laptops_03_extracol.csv\"}</td></tr><tr><td>57</td><td>HP</td><td>15-bs002nv (i3-6006U/4GB/128GB/FHD/W10)</td><td>Notebook</td><td>439</td><td>{\"TYPENAME\":\"Notebook\",\"_file_path\":\"dbfs:/FileStore/datasets/laptop_source_stream/laptops_03_extracol.csv\"}</td></tr><tr><td>58</td><td>Asus</td><td>VivoBook Max</td><td>Notebook</td><td>586.19</td><td>{\"TYPENAME\":\"Notebook\",\"_file_path\":\"dbfs:/FileStore/datasets/laptop_source_stream/laptops_03_extracol.csv\"}</td></tr><tr><td>59</td><td>MSI</td><td>GS73VR 7RG</td><td>Gaming</td><td>2449</td><td>{\"TYPENAME\":\"Gaming\",\"_file_path\":\"dbfs:/FileStore/datasets/laptop_source_stream/laptops_03_extracol.csv\"}</td></tr><tr><td>60</td><td>Asus</td><td>X541UA-DM1897 (i3-6006U/4GB/256GB/FHD/Linux)</td><td>Notebook</td><td>415</td><td>null</td></tr><tr><td>61</td><td>Dell</td><td>Inspiron 5770</td><td>Notebook</td><td>1299</td><td>null</td></tr><tr><td>62</td><td>Dell</td><td>Vostro 5471</td><td>Ultrabook</td><td>879</td><td>null</td></tr><tr><td>63</td><td>Lenovo</td><td>IdeaPad 520S-14IKB</td><td>Notebook</td><td>599</td><td>null</td></tr><tr><td>64</td><td>Asus</td><td>UX410UA-GV350T (i5-8250U/8GB/256GB/FHD/W10)</td><td>Notebook</td><td>941</td><td>null</td></tr><tr><td>66</td><td>HP</td><td>250 G6</td><td>Notebook</td><td>690</td><td>null</td></tr><tr><td>67</td><td>Asus</td><td>ZenBook Pro</td><td>Ultrabook</td><td>1983</td><td>null</td></tr><tr><td>68</td><td>HP</td><td>250 G6</td><td>Notebook</td><td>438.69</td><td>null</td></tr><tr><td>69</td><td>HP</td><td>Stream 14-AX040wm</td><td>Notebook</td><td>229</td><td>null</td></tr><tr><td>70</td><td>Lenovo</td><td>V310-15ISK (i5-7200U/4GB/1TB/FHD/W10)</td><td>Notebook</td><td>549</td><td>null</td></tr><tr><td>71</td><td>Asus</td><td>FX753VE-GC093 (i7-7700HQ/12GB/1TB/GeForce</td><td>Gaming</td><td>949</td><td>null</td></tr><tr><td>72</td><td>Microsoft</td><td>Surface Laptop</td><td>Ultrabook</td><td>1089</td><td>null</td></tr><tr><td>73</td><td>Dell</td><td>Inspiron 5370</td><td>Ultrabook</td><td>955</td><td>null</td></tr><tr><td>74</td><td>Dell</td><td>Inspiron 5570</td><td>Notebook</td><td>870</td><td>null</td></tr><tr><td>75</td><td>MSI</td><td>GL72M 7RDX</td><td>Gaming</td><td>1095</td><td>null</td></tr><tr><td>76</td><td>Acer</td><td>Aspire E5-475</td><td>Notebook</td><td>389</td><td>null</td></tr><tr><td>77</td><td>Asus</td><td>FX503VD-E4022T (i7-7700HQ/8GB/1TB/GeForce</td><td>Gaming</td><td>949</td><td>null</td></tr><tr><td>78</td><td>Lenovo</td><td>IdeaPad 320-15IKBN</td><td>Notebook</td><td>519</td><td>null</td></tr><tr><td>79</td><td>Dell</td><td>Inspiron 5570</td><td>Notebook</td><td>855</td><td>null</td></tr><tr><td>80</td><td>Acer</td><td>Aspire A515-51G-32MX</td><td>Notebook</td><td>530</td><td>null</td></tr><tr><td>81</td><td>HP</td><td>ProBook 470</td><td>Notebook</td><td>977</td><td>null</td></tr><tr><td>82</td><td>Dell</td><td>Latitude 5590</td><td>Ultrabook</td><td>1096.16</td><td>null</td></tr><tr><td>83</td><td>Apple</td><td>MacBook 12\"\"</td><td>Ultrabook</td><td>1510</td><td>null</td></tr><tr><td>84</td><td>HP</td><td>ProBook 440</td><td>Notebook</td><td>860</td><td>null</td></tr><tr><td>85</td><td>Lenovo</td><td>IdeaPad 320-15AST</td><td>Notebook</td><td>399</td><td>null</td></tr><tr><td>86</td><td>Acer</td><td>Aspire 3</td><td>Notebook</td><td>395</td><td>null</td></tr><tr><td>87</td><td>Dell</td><td>Inspiron 7577</td><td>Gaming</td><td>1349</td><td>null</td></tr><tr><td>88</td><td>HP</td><td>Pavilion 15-CK000nv</td><td>Ultrabook</td><td>699</td><td>null</td></tr><tr><td>89</td><td>HP</td><td>250 G6</td><td>Notebook</td><td>598.99</td><td>null</td></tr><tr><td>90</td><td>Asus</td><td>FX503VM-E4007T (i7-7700HQ/16GB/1TB</td><td>Gaming</td><td>1449</td><td>null</td></tr><tr><td>91</td><td>Dell</td><td>XPS 13</td><td>Ultrabook</td><td>1649</td><td>null</td></tr><tr><td>92</td><td>Asus</td><td>FX550IK-DM018T (FX-9830P/8GB/1TB/Radeon</td><td>Gaming</td><td>699</td><td>null</td></tr><tr><td>93</td><td>Acer</td><td>Aspire 5</td><td>Notebook</td><td>689</td><td>null</td></tr><tr><td>94</td><td>HP</td><td>Probook 430</td><td>Notebook</td><td>1197</td><td>null</td></tr><tr><td>95</td><td>Dell</td><td>Inspiron 7577</td><td>Gaming</td><td>1195</td><td>null</td></tr><tr><td>96</td><td>Asus</td><td>Zenbook UX430UA</td><td>Ultrabook</td><td>1049</td><td>null</td></tr><tr><td>97</td><td>Acer</td><td>Spin 5</td><td>2 in 1 Convertible</td><td>847</td><td>null</td></tr><tr><td>98</td><td>Dell</td><td>Inspiron 3567</td><td>Notebook</td><td>599.9</td><td>null</td></tr><tr><td>99</td><td>Dell</td><td>Inspiron 3567</td><td>Notebook</td><td>485</td><td>null</td></tr><tr><td>100</td><td>Asus</td><td>X541UV-DM1439T (i3-7100U/6GB/256GB/GeForce</td><td>Notebook</td><td>577</td><td>null</td></tr></tbody></table></div>"
      ]
     },
     "metadata": {
      "application/vnd.databricks.v1+output": {
       "addedWidgets": {},
       "aggData": [],
       "aggError": "",
       "aggOverflow": false,
       "aggSchema": [],
       "aggSeriesLimitReached": false,
       "aggType": "",
       "arguments": {},
       "columnCustomDisplayInfos": {},
       "data": [
        [
         "21",
         "Asus",
         "Vivobook E200HA",
         "Netbook",
         "191.9",
         null
        ],
        [
         "22",
         "Lenovo",
         "Legion Y520-15IKBN",
         "Gaming",
         "999",
         null
        ],
        [
         "23",
         "HP",
         "255 G6",
         "Notebook",
         "258",
         null
        ],
        [
         "24",
         "Dell",
         "Inspiron 5379",
         "2 in 1 Convertible",
         "819",
         null
        ],
        [
         "25",
         "HP",
         "15-BS101nv (i7-8550U/8GB/256GB/FHD/W10)",
         "Ultrabook",
         "659",
         null
        ],
        [
         "26",
         "Dell",
         "Inspiron 3567",
         "Notebook",
         "418.64",
         null
        ],
        [
         "27",
         "Apple",
         "MacBook Air",
         "Ultrabook",
         "1099",
         null
        ],
        [
         "28",
         "Dell",
         "Inspiron 5570",
         "Notebook",
         "800",
         null
        ],
        [
         "29",
         "Dell",
         "Latitude 5590",
         "Ultrabook",
         "1298",
         null
        ],
        [
         "30",
         "HP",
         "ProBook 470",
         "Notebook",
         "896",
         null
        ],
        [
         "31",
         "Chuwi",
         "LapBook 15.6\"\"",
         "Notebook",
         "244.99",
         null
        ],
        [
         "32",
         "Asus",
         "E402WA-GA010T (E2-6110/2GB/32GB/W10)",
         "Notebook",
         "199",
         null
        ],
        [
         "33",
         "HP",
         "17-ak001nv (A6-9220/4GB/500GB/Radeon",
         "Notebook",
         "439",
         null
        ],
        [
         "34",
         "Dell",
         "XPS 13",
         "Ultrabook",
         "1869",
         null
        ],
        [
         "35",
         "Apple",
         "MacBook Air",
         "Ultrabook",
         "998",
         null
        ],
        [
         "36",
         "Lenovo",
         "IdeaPad 120S-14IAP",
         "Notebook",
         "249",
         null
        ],
        [
         "37",
         "Acer",
         "Aspire 3",
         "Notebook",
         "367",
         null
        ],
        [
         "38",
         "Dell",
         "Inspiron 5770",
         "Notebook",
         "979",
         null
        ],
        [
         "39",
         "HP",
         "250 G6",
         "Notebook",
         "488.69",
         null
        ],
        [
         "40",
         "HP",
         "ProBook 450",
         "Notebook",
         "879",
         null
        ],
        [
         "1",
         "Apple",
         "MacBook Pro",
         "Ultrabook",
         "1339.69",
         null
        ],
        [
         "2",
         "Apple",
         "Macbook Air",
         "Ultrabook",
         "898.94",
         null
        ],
        [
         "3",
         "HP",
         "250 G6",
         "Notebook",
         "575",
         null
        ],
        [
         "4",
         "Apple",
         "MacBook Pro",
         "Ultrabook",
         "2537.45",
         null
        ],
        [
         "5",
         "Apple",
         "MacBook Pro",
         "Ultrabook",
         "1803.6",
         null
        ],
        [
         "6",
         "Acer",
         "Aspire 3",
         "Notebook",
         "400",
         null
        ],
        [
         "7",
         "Apple",
         "MacBook Pro",
         "Ultrabook",
         "2139.97",
         null
        ],
        [
         "8",
         "Apple",
         "Macbook Air",
         "Ultrabook",
         "1158.7",
         null
        ],
        [
         "9",
         "Asus",
         "ZenBook UX430UN",
         "Ultrabook",
         "1495",
         null
        ],
        [
         "10",
         "Acer",
         "Swift 3",
         "Ultrabook",
         "770",
         null
        ],
        [
         "11",
         "HP",
         "250 G6",
         "Notebook",
         "393.9",
         null
        ],
        [
         "12",
         "HP",
         "250 G6",
         "Notebook",
         "344.99",
         null
        ],
        [
         "13",
         "Apple",
         "MacBook Pro",
         "Ultrabook",
         "2439.97",
         null
        ],
        [
         "14",
         "Dell",
         "Inspiron 3567",
         "Notebook",
         "498.9",
         null
        ],
        [
         "15",
         "Apple",
         "MacBook 12\"\"",
         "Ultrabook",
         "1262.4",
         null
        ],
        [
         "16",
         "Apple",
         "MacBook Pro",
         "Ultrabook",
         "1518.55",
         null
        ],
        [
         "17",
         "Dell",
         "Inspiron 3567",
         "Notebook",
         "745",
         null
        ],
        [
         "18",
         "Apple",
         "MacBook Pro",
         "Ultrabook",
         "2858",
         null
        ],
        [
         "19",
         "Lenovo",
         "IdeaPad 320-15IKB",
         "Notebook",
         "499",
         null
        ],
        [
         "20",
         "Dell",
         "XPS 13",
         "Ultrabook",
         "979",
         null
        ],
        [
         "41",
         "Asus",
         "X540UA-DM186 (i3-6006U/4GB/1TB/FHD/Linux)",
         "Notebook",
         "389",
         "{\"TYPENAME\":\"Notebook\",\"_file_path\":\"dbfs:/FileStore/datasets/laptop_source_stream/laptops_03_extracol.csv\"}"
        ],
        [
         "42",
         "Dell",
         "Inspiron 7577",
         "Gaming",
         "1499",
         "{\"TYPENAME\":\"Gaming\",\"_file_path\":\"dbfs:/FileStore/datasets/laptop_source_stream/laptops_03_extracol.csv\"}"
        ],
        [
         "43",
         "Asus",
         "X542UQ-GO005 (i5-7200U/8GB/1TB/GeForce",
         "Notebook",
         "522.99",
         "{\"TYPENAME\":\"Notebook\",\"_file_path\":\"dbfs:/FileStore/datasets/laptop_source_stream/laptops_03_extracol.csv\"}"
        ],
        [
         "44",
         "Acer",
         "Aspire A515-51G",
         "Notebook",
         "682",
         "{\"TYPENAME\":\"Notebook\",\"_file_path\":\"dbfs:/FileStore/datasets/laptop_source_stream/laptops_03_extracol.csv\"}"
        ],
        [
         "45",
         "Dell",
         "Inspiron 7773",
         "2 in 1 Convertible",
         "999",
         "{\"TYPENAME\":\"2 in 1 Convertible\",\"_file_path\":\"dbfs:/FileStore/datasets/laptop_source_stream/laptops_03_extracol.csv\"}"
        ],
        [
         "46",
         "Apple",
         "MacBook Pro",
         "Ultrabook",
         "1419",
         "{\"TYPENAME\":\"Ultrabook\",\"_file_path\":\"dbfs:/FileStore/datasets/laptop_source_stream/laptops_03_extracol.csv\"}"
        ],
        [
         "47",
         "Lenovo",
         "IdeaPad 320-15ISK",
         "Notebook",
         "369",
         "{\"TYPENAME\":\"Notebook\",\"_file_path\":\"dbfs:/FileStore/datasets/laptop_source_stream/laptops_03_extracol.csv\"}"
        ],
        [
         "48",
         "Asus",
         "Rog Strix",
         "Gaming",
         "1299",
         "{\"TYPENAME\":\"Gaming\",\"_file_path\":\"dbfs:/FileStore/datasets/laptop_source_stream/laptops_03_extracol.csv\"}"
        ],
        [
         "49",
         "Dell",
         "Inspiron 3567",
         "Notebook",
         "639",
         "{\"TYPENAME\":\"Notebook\",\"_file_path\":\"dbfs:/FileStore/datasets/laptop_source_stream/laptops_03_extracol.csv\"}"
        ],
        [
         "50",
         "Asus",
         "X751NV-TY001T (N4200/4GB/1TB/GeForce",
         "Notebook",
         "466",
         "{\"TYPENAME\":\"Notebook\",\"_file_path\":\"dbfs:/FileStore/datasets/laptop_source_stream/laptops_03_extracol.csv\"}"
        ],
        [
         "51",
         "Lenovo",
         "Yoga Book",
         "2 in 1 Convertible",
         "319",
         "{\"TYPENAME\":\"2 in 1 Convertible\",\"_file_path\":\"dbfs:/FileStore/datasets/laptop_source_stream/laptops_03_extracol.csv\"}"
        ],
        [
         "52",
         "Acer",
         "Aspire A515-51G",
         "Notebook",
         "841",
         "{\"TYPENAME\":\"Notebook\",\"_file_path\":\"dbfs:/FileStore/datasets/laptop_source_stream/laptops_03_extracol.csv\"}"
        ],
        [
         "53",
         "HP",
         "255 G6",
         "Notebook",
         "398.49",
         "{\"TYPENAME\":\"Notebook\",\"_file_path\":\"dbfs:/FileStore/datasets/laptop_source_stream/laptops_03_extracol.csv\"}"
        ],
        [
         "54",
         "HP",
         "ProBook 430",
         "Notebook",
         "1103",
         "{\"TYPENAME\":\"Notebook\",\"_file_path\":\"dbfs:/FileStore/datasets/laptop_source_stream/laptops_03_extracol.csv\"}"
        ],
        [
         "55",
         "Acer",
         "Aspire 3",
         "Notebook",
         "384",
         "{\"TYPENAME\":\"Notebook\",\"_file_path\":\"dbfs:/FileStore/datasets/laptop_source_stream/laptops_03_extracol.csv\"}"
        ],
        [
         "56",
         "Dell",
         "Inspiron 3576",
         "Notebook",
         "767.8",
         "{\"TYPENAME\":\"Notebook\",\"_file_path\":\"dbfs:/FileStore/datasets/laptop_source_stream/laptops_03_extracol.csv\"}"
        ],
        [
         "57",
         "HP",
         "15-bs002nv (i3-6006U/4GB/128GB/FHD/W10)",
         "Notebook",
         "439",
         "{\"TYPENAME\":\"Notebook\",\"_file_path\":\"dbfs:/FileStore/datasets/laptop_source_stream/laptops_03_extracol.csv\"}"
        ],
        [
         "58",
         "Asus",
         "VivoBook Max",
         "Notebook",
         "586.19",
         "{\"TYPENAME\":\"Notebook\",\"_file_path\":\"dbfs:/FileStore/datasets/laptop_source_stream/laptops_03_extracol.csv\"}"
        ],
        [
         "59",
         "MSI",
         "GS73VR 7RG",
         "Gaming",
         "2449",
         "{\"TYPENAME\":\"Gaming\",\"_file_path\":\"dbfs:/FileStore/datasets/laptop_source_stream/laptops_03_extracol.csv\"}"
        ],
        [
         "60",
         "Asus",
         "X541UA-DM1897 (i3-6006U/4GB/256GB/FHD/Linux)",
         "Notebook",
         "415",
         null
        ],
        [
         "61",
         "Dell",
         "Inspiron 5770",
         "Notebook",
         "1299",
         null
        ],
        [
         "62",
         "Dell",
         "Vostro 5471",
         "Ultrabook",
         "879",
         null
        ],
        [
         "63",
         "Lenovo",
         "IdeaPad 520S-14IKB",
         "Notebook",
         "599",
         null
        ],
        [
         "64",
         "Asus",
         "UX410UA-GV350T (i5-8250U/8GB/256GB/FHD/W10)",
         "Notebook",
         "941",
         null
        ],
        [
         "66",
         "HP",
         "250 G6",
         "Notebook",
         "690",
         null
        ],
        [
         "67",
         "Asus",
         "ZenBook Pro",
         "Ultrabook",
         "1983",
         null
        ],
        [
         "68",
         "HP",
         "250 G6",
         "Notebook",
         "438.69",
         null
        ],
        [
         "69",
         "HP",
         "Stream 14-AX040wm",
         "Notebook",
         "229",
         null
        ],
        [
         "70",
         "Lenovo",
         "V310-15ISK (i5-7200U/4GB/1TB/FHD/W10)",
         "Notebook",
         "549",
         null
        ],
        [
         "71",
         "Asus",
         "FX753VE-GC093 (i7-7700HQ/12GB/1TB/GeForce",
         "Gaming",
         "949",
         null
        ],
        [
         "72",
         "Microsoft",
         "Surface Laptop",
         "Ultrabook",
         "1089",
         null
        ],
        [
         "73",
         "Dell",
         "Inspiron 5370",
         "Ultrabook",
         "955",
         null
        ],
        [
         "74",
         "Dell",
         "Inspiron 5570",
         "Notebook",
         "870",
         null
        ],
        [
         "75",
         "MSI",
         "GL72M 7RDX",
         "Gaming",
         "1095",
         null
        ],
        [
         "76",
         "Acer",
         "Aspire E5-475",
         "Notebook",
         "389",
         null
        ],
        [
         "77",
         "Asus",
         "FX503VD-E4022T (i7-7700HQ/8GB/1TB/GeForce",
         "Gaming",
         "949",
         null
        ],
        [
         "78",
         "Lenovo",
         "IdeaPad 320-15IKBN",
         "Notebook",
         "519",
         null
        ],
        [
         "79",
         "Dell",
         "Inspiron 5570",
         "Notebook",
         "855",
         null
        ],
        [
         "80",
         "Acer",
         "Aspire A515-51G-32MX",
         "Notebook",
         "530",
         null
        ],
        [
         "81",
         "HP",
         "ProBook 470",
         "Notebook",
         "977",
         null
        ],
        [
         "82",
         "Dell",
         "Latitude 5590",
         "Ultrabook",
         "1096.16",
         null
        ],
        [
         "83",
         "Apple",
         "MacBook 12\"\"",
         "Ultrabook",
         "1510",
         null
        ],
        [
         "84",
         "HP",
         "ProBook 440",
         "Notebook",
         "860",
         null
        ],
        [
         "85",
         "Lenovo",
         "IdeaPad 320-15AST",
         "Notebook",
         "399",
         null
        ],
        [
         "86",
         "Acer",
         "Aspire 3",
         "Notebook",
         "395",
         null
        ],
        [
         "87",
         "Dell",
         "Inspiron 7577",
         "Gaming",
         "1349",
         null
        ],
        [
         "88",
         "HP",
         "Pavilion 15-CK000nv",
         "Ultrabook",
         "699",
         null
        ],
        [
         "89",
         "HP",
         "250 G6",
         "Notebook",
         "598.99",
         null
        ],
        [
         "90",
         "Asus",
         "FX503VM-E4007T (i7-7700HQ/16GB/1TB",
         "Gaming",
         "1449",
         null
        ],
        [
         "91",
         "Dell",
         "XPS 13",
         "Ultrabook",
         "1649",
         null
        ],
        [
         "92",
         "Asus",
         "FX550IK-DM018T (FX-9830P/8GB/1TB/Radeon",
         "Gaming",
         "699",
         null
        ],
        [
         "93",
         "Acer",
         "Aspire 5",
         "Notebook",
         "689",
         null
        ],
        [
         "94",
         "HP",
         "Probook 430",
         "Notebook",
         "1197",
         null
        ],
        [
         "95",
         "Dell",
         "Inspiron 7577",
         "Gaming",
         "1195",
         null
        ],
        [
         "96",
         "Asus",
         "Zenbook UX430UA",
         "Ultrabook",
         "1049",
         null
        ],
        [
         "97",
         "Acer",
         "Spin 5",
         "2 in 1 Convertible",
         "847",
         null
        ],
        [
         "98",
         "Dell",
         "Inspiron 3567",
         "Notebook",
         "599.9",
         null
        ],
        [
         "99",
         "Dell",
         "Inspiron 3567",
         "Notebook",
         "485",
         null
        ],
        [
         "100",
         "Asus",
         "X541UV-DM1439T (i3-7100U/6GB/256GB/GeForce",
         "Notebook",
         "577",
         null
        ]
       ],
       "datasetInfos": [],
       "dbfsResultPath": null,
       "isJsonSchema": true,
       "metadata": {
        "isDbfsCommandResult": false
       },
       "overflow": false,
       "plotOptions": {
        "customPlotOptions": {},
        "displayType": "table",
        "pivotAggregation": null,
        "pivotColumns": null,
        "xColumns": null,
        "yColumns": null
       },
       "removedWidgets": [],
       "schema": [
        {
         "metadata": "{}",
         "name": "Id",
         "type": "\"string\""
        },
        {
         "metadata": "{}",
         "name": "Company",
         "type": "\"string\""
        },
        {
         "metadata": "{}",
         "name": "Product",
         "type": "\"string\""
        },
        {
         "metadata": "{}",
         "name": "TypeName",
         "type": "\"string\""
        },
        {
         "metadata": "{}",
         "name": "Price_euros",
         "type": "\"string\""
        },
        {
         "metadata": "{}",
         "name": "_rescued_data",
         "type": "\"string\""
        }
       ],
       "type": "table"
      }
     },
     "output_type": "display_data"
    }
   ],
   "source": [
    "laptop_stream_data.display()"
   ]
  },
  {
   "cell_type": "code",
   "execution_count": 0,
   "metadata": {
    "application/vnd.databricks.v1+cell": {
     "cellMetadata": {},
     "inputWidgets": {},
     "nuid": "afebc832-fca7-4a15-9eef-2b4faabca5f0",
     "showTitle": false,
     "title": ""
    }
   },
   "outputs": [],
   "source": [
    "# this autoloader will infer the schema for fist 50 GB of data in the file present\n",
    "# to avoid schema inference for the secont time every time we can specify schemaLocation, once it reads it for the first time, it will save the schema at the cloudFiles location in avoid cost for infering schema again and again"
   ]
  },
  {
   "cell_type": "code",
   "execution_count": 0,
   "metadata": {
    "application/vnd.databricks.v1+cell": {
     "cellMetadata": {},
     "inputWidgets": {},
     "nuid": "9d61a4de-45c8-44ab-90f2-02cbc2f81ae3",
     "showTitle": false,
     "title": ""
    }
   },
   "outputs": [],
   "source": [
    "# in the result, we can see a rescued_data column, which will reflect the data which has error in loading or so"
   ]
  },
  {
   "cell_type": "code",
   "execution_count": 0,
   "metadata": {
    "application/vnd.databricks.v1+cell": {
     "cellMetadata": {
      "byteLimit": 2048000,
      "rowLimit": 10000
     },
     "inputWidgets": {},
     "nuid": "4bbf6c16-835b-4082-bab6-a82a5e2ff4aa",
     "showTitle": false,
     "title": ""
    }
   },
   "outputs": [
    {
     "output_type": "display_data",
     "data": {
      "text/html": [
       "<style scoped>\n",
       "  .ansiout {\n",
       "    display: block;\n",
       "    unicode-bidi: embed;\n",
       "    white-space: pre-wrap;\n",
       "    word-wrap: break-word;\n",
       "    word-break: break-all;\n",
       "    font-family: \"Source Code Pro\", \"Menlo\", monospace;;\n",
       "    font-size: 13px;\n",
       "    color: #555;\n",
       "    margin-left: 4px;\n",
       "    line-height: 19px;\n",
       "  }\n",
       "</style>\n",
       "<div class=\"ansiout\">Out[14]: [FileInfo(path=&#39;dbfs:/FileStore/datasets/laptop_source_stream/_schemas/0&#39;, name=&#39;0&#39;, size=504, modificationTime=1694244792000)]</div>"
      ]
     },
     "metadata": {
      "application/vnd.databricks.v1+output": {
       "addedWidgets": {},
       "arguments": {},
       "data": "<div class=\"ansiout\">Out[14]: [FileInfo(path=&#39;dbfs:/FileStore/datasets/laptop_source_stream/_schemas/0&#39;, name=&#39;0&#39;, size=504, modificationTime=1694244792000)]</div>",
       "datasetInfos": [],
       "metadata": {},
       "removedWidgets": [],
       "type": "html"
      }
     },
     "output_type": "display_data"
    }
   ],
   "source": [
    "dbutils.fs.ls(\"/FileStore/datasets/laptop_source_stream/_schemas/0\")"
   ]
  },
  {
   "cell_type": "code",
   "execution_count": 0,
   "metadata": {
    "application/vnd.databricks.v1+cell": {
     "cellMetadata": {
      "byteLimit": 2048000,
      "rowLimit": 10000
     },
     "inputWidgets": {},
     "nuid": "fb37e393-1875-4629-bc47-450d1049bec1",
     "showTitle": false,
     "title": ""
    }
   },
   "outputs": [
    {
     "output_type": "display_data",
     "data": {
      "text/html": [
       "<style scoped>\n",
       "  .ansiout {\n",
       "    display: block;\n",
       "    unicode-bidi: embed;\n",
       "    white-space: pre-wrap;\n",
       "    word-wrap: break-word;\n",
       "    word-break: break-all;\n",
       "    font-family: \"Source Code Pro\", \"Menlo\", monospace;;\n",
       "    font-size: 13px;\n",
       "    color: #555;\n",
       "    margin-left: 4px;\n",
       "    line-height: 19px;\n",
       "  }\n",
       "</style>\n",
       "<div class=\"ansiout\">Out[15]: &#39;v1\\n{&#34;dataSchemaJson&#34;:&#34;{\\\\&#34;type\\\\&#34;:\\\\&#34;struct\\\\&#34;,\\\\&#34;fields\\\\&#34;:[{\\\\&#34;name\\\\&#34;:\\\\&#34;Id\\\\&#34;,\\\\&#34;type\\\\&#34;:\\\\&#34;integer\\\\&#34;,\\\\&#34;nullable\\\\&#34;:true,\\\\&#34;metadata\\\\&#34;:{}},{\\\\&#34;name\\\\&#34;:\\\\&#34;Company\\\\&#34;,\\\\&#34;type\\\\&#34;:\\\\&#34;string\\\\&#34;,\\\\&#34;nullable\\\\&#34;:true,\\\\&#34;metadata\\\\&#34;:{}},{\\\\&#34;name\\\\&#34;:\\\\&#34;Product\\\\&#34;,\\\\&#34;type\\\\&#34;:\\\\&#34;string\\\\&#34;,\\\\&#34;nullable\\\\&#34;:true,\\\\&#34;metadata\\\\&#34;:{}},{\\\\&#34;name\\\\&#34;:\\\\&#34;TypeName\\\\&#34;,\\\\&#34;type\\\\&#34;:\\\\&#34;string\\\\&#34;,\\\\&#34;nullable\\\\&#34;:true,\\\\&#34;metadata\\\\&#34;:{}},{\\\\&#34;name\\\\&#34;:\\\\&#34;Price_euros\\\\&#34;,\\\\&#34;type\\\\&#34;:\\\\&#34;double\\\\&#34;,\\\\&#34;nullable\\\\&#34;:true,\\\\&#34;metadata\\\\&#34;:{}}]}&#34;,&#34;partitionSchemaJson&#34;:&#34;{\\\\&#34;type\\\\&#34;:\\\\&#34;struct\\\\&#34;,\\\\&#34;fields\\\\&#34;:[]}&#34;}&#39;</div>"
      ]
     },
     "metadata": {
      "application/vnd.databricks.v1+output": {
       "addedWidgets": {},
       "arguments": {},
       "data": "<div class=\"ansiout\">Out[15]: &#39;v1\\n{&#34;dataSchemaJson&#34;:&#34;{\\\\&#34;type\\\\&#34;:\\\\&#34;struct\\\\&#34;,\\\\&#34;fields\\\\&#34;:[{\\\\&#34;name\\\\&#34;:\\\\&#34;Id\\\\&#34;,\\\\&#34;type\\\\&#34;:\\\\&#34;integer\\\\&#34;,\\\\&#34;nullable\\\\&#34;:true,\\\\&#34;metadata\\\\&#34;:{}},{\\\\&#34;name\\\\&#34;:\\\\&#34;Company\\\\&#34;,\\\\&#34;type\\\\&#34;:\\\\&#34;string\\\\&#34;,\\\\&#34;nullable\\\\&#34;:true,\\\\&#34;metadata\\\\&#34;:{}},{\\\\&#34;name\\\\&#34;:\\\\&#34;Product\\\\&#34;,\\\\&#34;type\\\\&#34;:\\\\&#34;string\\\\&#34;,\\\\&#34;nullable\\\\&#34;:true,\\\\&#34;metadata\\\\&#34;:{}},{\\\\&#34;name\\\\&#34;:\\\\&#34;TypeName\\\\&#34;,\\\\&#34;type\\\\&#34;:\\\\&#34;string\\\\&#34;,\\\\&#34;nullable\\\\&#34;:true,\\\\&#34;metadata\\\\&#34;:{}},{\\\\&#34;name\\\\&#34;:\\\\&#34;Price_euros\\\\&#34;,\\\\&#34;type\\\\&#34;:\\\\&#34;double\\\\&#34;,\\\\&#34;nullable\\\\&#34;:true,\\\\&#34;metadata\\\\&#34;:{}}]}&#34;,&#34;partitionSchemaJson&#34;:&#34;{\\\\&#34;type\\\\&#34;:\\\\&#34;struct\\\\&#34;,\\\\&#34;fields\\\\&#34;:[]}&#34;}&#39;</div>",
       "datasetInfos": [],
       "metadata": {},
       "removedWidgets": [],
       "type": "html"
      }
     },
     "output_type": "display_data"
    }
   ],
   "source": [
    "dbutils.fs.head(\"/FileStore/datasets/laptop_source_stream/_schemas/0\",1000)"
   ]
  },
  {
   "cell_type": "code",
   "execution_count": 0,
   "metadata": {
    "application/vnd.databricks.v1+cell": {
     "cellMetadata": {
      "byteLimit": 2048000,
      "rowLimit": 10000
     },
     "inputWidgets": {},
     "nuid": "4e211fae-f336-4e4d-adce-9e9ba07bfe92",
     "showTitle": false,
     "title": ""
    }
   },
   "outputs": [
    {
     "output_type": "display_data",
     "data": {
      "text/html": [
       "<style scoped>\n",
       "  .ansiout {\n",
       "    display: block;\n",
       "    unicode-bidi: embed;\n",
       "    white-space: pre-wrap;\n",
       "    word-wrap: break-word;\n",
       "    word-break: break-all;\n",
       "    font-family: \"Source Code Pro\", \"Menlo\", monospace;;\n",
       "    font-size: 13px;\n",
       "    color: #555;\n",
       "    margin-left: 4px;\n",
       "    line-height: 19px;\n",
       "  }\n",
       "</style>\n",
       "<div class=\"ansiout\"></div>"
      ]
     },
     "metadata": {
      "application/vnd.databricks.v1+output": {
       "addedWidgets": {},
       "arguments": {},
       "data": "<div class=\"ansiout\"></div>",
       "datasetInfos": [],
       "metadata": {},
       "removedWidgets": [],
       "type": "html"
      }
     },
     "output_type": "display_data"
    }
   ],
   "source": [
    "laptop_stream_subset = laptop_stream_data.filter(laptop_stream_data.Company == \"Dell\") \\\n",
    "                                        .select(\"Company\",\"Product\",\"Price_euros\")"
   ]
  },
  {
   "cell_type": "code",
   "execution_count": 0,
   "metadata": {
    "application/vnd.databricks.v1+cell": {
     "cellMetadata": {
      "byteLimit": 2048000,
      "rowLimit": 10000
     },
     "inputWidgets": {},
     "nuid": "37d66ab8-9f61-474c-abe7-1e7482ce583f",
     "showTitle": false,
     "title": ""
    }
   },
   "outputs": [
    {
     "output_type": "display_data",
     "data": {
      "text/html": [
       "<style scoped>\n",
       "  .table-result-container {\n",
       "    max-height: 300px;\n",
       "    overflow: auto;\n",
       "  }\n",
       "  table, th, td {\n",
       "    border: 1px solid black;\n",
       "    border-collapse: collapse;\n",
       "  }\n",
       "  th, td {\n",
       "    padding: 5px;\n",
       "  }\n",
       "  th {\n",
       "    text-align: left;\n",
       "  }\n",
       "</style><div class='table-result-container'><table class='table-result'><thead style='background-color: white'><tr><th>Company</th><th>Product</th><th>Price_euros</th></tr></thead><tbody><tr><td>Dell</td><td>Inspiron 7577</td><td>1499</td></tr><tr><td>Dell</td><td>Inspiron 7773</td><td>999</td></tr><tr><td>Dell</td><td>Inspiron 3567</td><td>639</td></tr><tr><td>Dell</td><td>Inspiron 3576</td><td>767.8</td></tr><tr><td>Dell</td><td>Inspiron 5770</td><td>1299</td></tr><tr><td>Dell</td><td>Vostro 5471</td><td>879</td></tr><tr><td>Dell</td><td>Inspiron 5370</td><td>955</td></tr><tr><td>Dell</td><td>Inspiron 5570</td><td>870</td></tr><tr><td>Dell</td><td>Inspiron 5570</td><td>855</td></tr><tr><td>Dell</td><td>Inspiron 5379</td><td>819</td></tr><tr><td>Dell</td><td>Inspiron 3567</td><td>418.64</td></tr><tr><td>Dell</td><td>Inspiron 5570</td><td>800</td></tr><tr><td>Dell</td><td>Latitude 5590</td><td>1298</td></tr><tr><td>Dell</td><td>XPS 13</td><td>1869</td></tr><tr><td>Dell</td><td>Inspiron 5770</td><td>979</td></tr><tr><td>Dell</td><td>Inspiron 3567</td><td>498.9</td></tr><tr><td>Dell</td><td>Inspiron 3567</td><td>745</td></tr><tr><td>Dell</td><td>XPS 13</td><td>979</td></tr><tr><td>Dell</td><td>Latitude 5590</td><td>1096.16</td></tr><tr><td>Dell</td><td>Inspiron 7577</td><td>1349</td></tr><tr><td>Dell</td><td>XPS 13</td><td>1649</td></tr><tr><td>Dell</td><td>Inspiron 7577</td><td>1195</td></tr><tr><td>Dell</td><td>Inspiron 3567</td><td>599.9</td></tr><tr><td>Dell</td><td>Inspiron 3567</td><td>485</td></tr></tbody></table></div>"
      ]
     },
     "metadata": {
      "application/vnd.databricks.v1+output": {
       "addedWidgets": {},
       "aggData": [],
       "aggError": "",
       "aggOverflow": false,
       "aggSchema": [],
       "aggSeriesLimitReached": false,
       "aggType": "",
       "arguments": {},
       "columnCustomDisplayInfos": {},
       "data": [
        [
         "Dell",
         "Inspiron 7577",
         "1499"
        ],
        [
         "Dell",
         "Inspiron 7773",
         "999"
        ],
        [
         "Dell",
         "Inspiron 3567",
         "639"
        ],
        [
         "Dell",
         "Inspiron 3576",
         "767.8"
        ],
        [
         "Dell",
         "Inspiron 5770",
         "1299"
        ],
        [
         "Dell",
         "Vostro 5471",
         "879"
        ],
        [
         "Dell",
         "Inspiron 5370",
         "955"
        ],
        [
         "Dell",
         "Inspiron 5570",
         "870"
        ],
        [
         "Dell",
         "Inspiron 5570",
         "855"
        ],
        [
         "Dell",
         "Inspiron 5379",
         "819"
        ],
        [
         "Dell",
         "Inspiron 3567",
         "418.64"
        ],
        [
         "Dell",
         "Inspiron 5570",
         "800"
        ],
        [
         "Dell",
         "Latitude 5590",
         "1298"
        ],
        [
         "Dell",
         "XPS 13",
         "1869"
        ],
        [
         "Dell",
         "Inspiron 5770",
         "979"
        ],
        [
         "Dell",
         "Inspiron 3567",
         "498.9"
        ],
        [
         "Dell",
         "Inspiron 3567",
         "745"
        ],
        [
         "Dell",
         "XPS 13",
         "979"
        ],
        [
         "Dell",
         "Latitude 5590",
         "1096.16"
        ],
        [
         "Dell",
         "Inspiron 7577",
         "1349"
        ],
        [
         "Dell",
         "XPS 13",
         "1649"
        ],
        [
         "Dell",
         "Inspiron 7577",
         "1195"
        ],
        [
         "Dell",
         "Inspiron 3567",
         "599.9"
        ],
        [
         "Dell",
         "Inspiron 3567",
         "485"
        ]
       ],
       "datasetInfos": [],
       "dbfsResultPath": null,
       "isJsonSchema": true,
       "metadata": {
        "isDbfsCommandResult": false
       },
       "overflow": false,
       "plotOptions": {
        "customPlotOptions": {},
        "displayType": "table",
        "pivotAggregation": null,
        "pivotColumns": null,
        "xColumns": null,
        "yColumns": null
       },
       "removedWidgets": [],
       "schema": [
        {
         "metadata": "{}",
         "name": "Company",
         "type": "\"string\""
        },
        {
         "metadata": "{}",
         "name": "Product",
         "type": "\"string\""
        },
        {
         "metadata": "{}",
         "name": "Price_euros",
         "type": "\"string\""
        }
       ],
       "type": "table"
      }
     },
     "output_type": "display_data"
    }
   ],
   "source": [
    "laptop_stream_subset.display()"
   ]
  },
  {
   "cell_type": "code",
   "execution_count": 0,
   "metadata": {
    "application/vnd.databricks.v1+cell": {
     "cellMetadata": {
      "byteLimit": 2048000,
      "rowLimit": 10000
     },
     "inputWidgets": {},
     "nuid": "b86af682-12d8-43a2-9753-ac3ffc6a33c4",
     "showTitle": false,
     "title": ""
    }
   },
   "outputs": [
    {
     "output_type": "display_data",
     "data": {
      "text/html": [
       "<style scoped>\n",
       "  .ansiout {\n",
       "    display: block;\n",
       "    unicode-bidi: embed;\n",
       "    white-space: pre-wrap;\n",
       "    word-wrap: break-word;\n",
       "    word-break: break-all;\n",
       "    font-family: \"Source Code Pro\", \"Menlo\", monospace;;\n",
       "    font-size: 13px;\n",
       "    color: #555;\n",
       "    margin-left: 4px;\n",
       "    line-height: 19px;\n",
       "  }\n",
       "</style>\n",
       "<div class=\"ansiout\">Out[18]: True</div>"
      ]
     },
     "metadata": {
      "application/vnd.databricks.v1+output": {
       "addedWidgets": {},
       "arguments": {},
       "data": "<div class=\"ansiout\">Out[18]: True</div>",
       "datasetInfos": [],
       "metadata": {},
       "removedWidgets": [],
       "type": "html"
      }
     },
     "output_type": "display_data"
    }
   ],
   "source": [
    "dbutils.fs.mkdirs(\"dbfs:/FileStore/datasets/dest_loaction/\")"
   ]
  },
  {
   "cell_type": "code",
   "execution_count": 0,
   "metadata": {
    "application/vnd.databricks.v1+cell": {
     "cellMetadata": {},
     "inputWidgets": {},
     "nuid": "93dd545d-1a8f-4a53-be84-5075ddd5b415",
     "showTitle": false,
     "title": ""
    }
   },
   "outputs": [],
   "source": [
    "# checkpointing: is a mechanism that allows spark framework helps in resilience from failure (like if state of query has been interupted) and fault tolerance, by maintaining intermediate state, since memory is not permenent, so it persists in HDFS\n",
    "\n",
    "# Types\n",
    "# metadata checkpointing\n",
    "# data checkpointing"
   ]
  },
  {
   "cell_type": "code",
   "execution_count": 0,
   "metadata": {
    "application/vnd.databricks.v1+cell": {
     "cellMetadata": {
      "byteLimit": 2048000,
      "rowLimit": 10000
     },
     "inputWidgets": {},
     "nuid": "f8ff0fb3-8824-4cbd-8f19-96fbf91c0076",
     "showTitle": false,
     "title": ""
    }
   },
   "outputs": [
    {
     "output_type": "display_data",
     "data": {
      "text/html": [
       "<style scoped>\n",
       "  .ansiout {\n",
       "    display: block;\n",
       "    unicode-bidi: embed;\n",
       "    white-space: pre-wrap;\n",
       "    word-wrap: break-word;\n",
       "    word-break: break-all;\n",
       "    font-family: \"Source Code Pro\", \"Menlo\", monospace;;\n",
       "    font-size: 13px;\n",
       "    color: #555;\n",
       "    margin-left: 4px;\n",
       "    line-height: 19px;\n",
       "  }\n",
       "</style>\n",
       "<div class=\"ansiout\">Out[19]: &lt;pyspark.sql.streaming.StreamingQuery at 0x7fa6b3398d30&gt;</div>"
      ]
     },
     "metadata": {
      "application/vnd.databricks.v1+output": {
       "addedWidgets": {},
       "arguments": {},
       "data": "<div class=\"ansiout\">Out[19]: &lt;pyspark.sql.streaming.StreamingQuery at 0x7fa6b3398d30&gt;</div>",
       "datasetInfos": [],
       "metadata": {},
       "removedWidgets": [],
       "type": "html"
      }
     },
     "output_type": "display_data"
    }
   ],
   "source": [
    "laptop_stream_subset.writeStream \\\n",
    "                    .option(\"mergeSchema\",\"true\") \\\n",
    "                        .format(\"csv\") \\\n",
    "                            .option(\"checkpointLocation\",\"dbfs:/FileStore/datasets/dest_location/checkpoint_1\") \\\n",
    "                                .start(\"dbfs:/FileStore/datasets/dest_location\")"
   ]
  },
  {
   "cell_type": "code",
   "execution_count": 0,
   "metadata": {
    "application/vnd.databricks.v1+cell": {
     "cellMetadata": {},
     "inputWidgets": {},
     "nuid": "60bb3fb1-709f-4c9c-b670-fd66f283cd94",
     "showTitle": false,
     "title": ""
    }
   },
   "outputs": [],
   "source": []
  }
 ],
 "metadata": {
  "application/vnd.databricks.v1+notebook": {
   "dashboards": [],
   "language": "python",
   "notebookMetadata": {
    "pythonIndentUnit": 4
   },
   "notebookName": "AutoLoader",
   "widgets": {}
  }
 },
 "nbformat": 4,
 "nbformat_minor": 0
}
